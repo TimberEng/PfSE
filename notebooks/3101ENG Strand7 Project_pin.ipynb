{
 "cells": [
  {
   "cell_type": "markdown",
   "id": "725054a5-3ab2-459e-aa73-ae5556bc5569",
   "metadata": {},
   "source": [
    "Please install `pip install PyNiteFEA==0.0.63` before running the test"
   ]
  },
  {
   "cell_type": "code",
   "execution_count": 5,
   "id": "58e82d32-e0cf-498e-8ced-ed4158e57d57",
   "metadata": {},
   "outputs": [],
   "source": [
    "from PyNite import FEModel3D"
   ]
  },
  {
   "cell_type": "code",
   "execution_count": 6,
   "id": "e5099015-cbaa-46fc-9525-d8367bdf706b",
   "metadata": {},
   "outputs": [],
   "source": [
    "from PyNite import FEModel3D\n",
    "from PyNite.Visualization import render_model\n",
    "from math import sqrt\n",
    "from math import tan\n",
    "from math import radians"
   ]
  },
  {
   "cell_type": "code",
   "execution_count": 15,
   "id": "3892b0d8-41ab-4c74-8d71-1ad6dbea1f53",
   "metadata": {},
   "outputs": [],
   "source": [
    "def frame_cal(H:float, L:float, w:float, ang_d:float):\n",
    "    \"\"\"\n",
    "    H, l, w, ang_d\n",
    "    \"\"\"\n",
    "    \n",
    "    frame_model = FEModel3D() # Creates an empty model\n",
    "    H  # mm\n",
    "    L  # mm\n",
    "    w  # N/mm\n",
    "    ang = radians (ang_d) # rad\n",
    "\n",
    "    #Add nodes\n",
    "    frame_model.add_node(\"node1\",0,0,0)\n",
    "    frame_model.add_node(\"node2\",0,H,0)\n",
    "    frame_model.add_node(\"node3\",L/2,H+((L/2)*tan(ang)),0)\n",
    "    frame_model.add_node(\"node4\",L,H,0)\n",
    "    frame_model.add_node(\"node5\",L,0,0)\n",
    "\n",
    "    m = (L/2)**2 + ((L/2)*tan(ang))**2\n",
    "    member_length = sqrt(m)\n",
    "\n",
    "    #Define material\n",
    "    I_1 = 9050000.0 # mm*4\n",
    "    I_2 = 672000.0 # mm*4\n",
    "    J = 60500.0 # mm*4\n",
    "    A = 2300.0 # mm*2\n",
    "    E = 200e3\n",
    "    nu = 0.25\n",
    "    rho = 7.85e-6\n",
    "    G = E/(2 * (1+2*nu))\n",
    "    \n",
    "    frame_model.add_material('Steel', E, G, nu, rho)\n",
    "\n",
    "    #Add frame members\n",
    "    frame_model.add_member('M1', 'node1', 'node2', 'Steel', I_2, I_1, J, A)\n",
    "    frame_model.add_member('M2', 'node2', 'node3', 'Steel', I_2, I_1, J, A)\n",
    "    frame_model.add_member('M3', 'node3', 'node4', 'Steel', I_2, I_1, J, A)\n",
    "    frame_model.add_member('M4', 'node4', 'node5', 'Steel', I_2, I_1, J, A)\n",
    "    \n",
    "    #Add load\n",
    "    frame_model.add_load_combo('L',{\"D\":1})\n",
    "    frame_model.add_member_dist_load(\"M1\", \"Fy\", -w, -w, 0, H, case=\"D\")\n",
    "    frame_model.add_member_dist_load(\"M2\", \"Fy\", w, w, 0, member_length, case=\"D\")\n",
    "    frame_model.add_member_dist_load(\"M3\", \"Fy\", w, w, 0, member_length, case=\"D\")\n",
    "    frame_model.add_member_dist_load(\"M4\", \"Fy\", w, w, 0, H, case=\"D\")\n",
    "\n",
    "    #Add boundary condition\n",
    "    frame_model.def_support('node1', True, True, True, True, True, False)\n",
    "    frame_model.def_support('node5', True, True, True, True, True, False)\n",
    "\n",
    "    \n",
    "    #render_model(frame_model, combo_name=\"L\", annotation_size=0.1)\n",
    "    \n",
    "    #Submit for analysis\n",
    "    frame_model.analyze()\n",
    "\n",
    "    #Node Vertical Displacement\n",
    "    node_v_1 = frame_model.Nodes['node1'].DY\n",
    "    node_v_2 = frame_model.Nodes['node2'].DY\n",
    "    node_v_3 = frame_model.Nodes['node3'].DY\n",
    "    node_v_4 = frame_model.Nodes['node4'].DY\n",
    "    node_v_5 = frame_model.Nodes['node5'].DY\n",
    "    node_displ_v = max(node_v_1['L'], node_v_2['L'], node_v_3['L'], node_v_4['L'], node_v_5['L'])\n",
    "\n",
    "    #Node Horizontal Displacement\n",
    "    node_h_1 = frame_model.Nodes['node1'].DX\n",
    "    node_h_2 = frame_model.Nodes['node2'].DX\n",
    "    node_h_3 = frame_model.Nodes['node3'].DX\n",
    "    node_h_4 = frame_model.Nodes['node4'].DX\n",
    "    node_h_5 = frame_model.Nodes['node5'].DX\n",
    "    node_displ_h = max(node_h_1['L'], node_h_2['L'], node_h_3['L'], node_h_4['L'], node_h_5['L'])\n",
    "    \n",
    "    #max momemnt\n",
    "    moment_max_1=abs(frame_model.Members['M1'].max_moment('Mz', combo_name = 'L')/10**6)\n",
    "    moment_max_2=abs(frame_model.Members['M2'].max_moment('Mz', combo_name = 'L')/10**6)\n",
    "    moment_max_3=abs(frame_model.Members['M3'].max_moment('Mz', combo_name = 'L')/10**6)\n",
    "    moment_max_4=abs(frame_model.Members['M4'].max_moment('Mz', combo_name = 'L')/10**6)\n",
    "    #min moment\n",
    "    moment_min_1=abs(frame_model.Members['M1'].min_moment('Mz', combo_name = 'L')/10**6)\n",
    "    moment_min_2=abs(frame_model.Members['M2'].min_moment('Mz', combo_name = 'L')/10**6)\n",
    "    moment_min_3=abs(frame_model.Members['M3'].min_moment('Mz', combo_name = 'L')/10**6)\n",
    "    moment_min_4=abs(frame_model.Members['M4'].min_moment('Mz', combo_name = 'L')/10**6)\n",
    "    moment = max (moment_max_1, moment_max_2, moment_max_3, moment_max_4, moment_min_1, moment_min_2, moment_min_3, moment_min_4)\n",
    "\n",
    "    #max shear\n",
    "    shear_max_1=abs(frame_model.Members['M1'].max_shear('Fy', combo_name = 'L')/10**3)\n",
    "    shear_max_2=abs(frame_model.Members['M2'].max_shear('Fy', combo_name = 'L')/10**3)\n",
    "    shear_max_3=abs(frame_model.Members['M3'].max_shear('Fy', combo_name = 'L')/10**3)\n",
    "    shear_max_4=abs(frame_model.Members['M4'].max_shear('Fy', combo_name = 'L')/10**3)\n",
    "    \n",
    "    #min shear\n",
    "    shear_min_1=abs(frame_model.Members['M1'].min_shear('Fy', combo_name = 'L')/10**3)\n",
    "    shear_min_2=abs(frame_model.Members['M2'].min_shear('Fy', combo_name = 'L')/10**3)\n",
    "    shear_min_3=abs(frame_model.Members['M3'].min_shear('Fy', combo_name = 'L')/10**3)\n",
    "    shear_min_4=abs(frame_model.Members['M4'].min_shear('Fy', combo_name = 'L')/10**3)\n",
    "    shear = max(shear_max_1, shear_max_2, shear_max_3, shear_max_4, shear_min_1, shear_min_2, shear_min_3, shear_min_4)\n",
    "    \n",
    "    return moment, shear, node_displ_v, node_displ_h"
   ]
  },
  {
   "cell_type": "code",
   "execution_count": 36,
   "id": "b0d2ff63-6ad1-47d5-8d5d-da69fa0aad62",
   "metadata": {},
   "outputs": [],
   "source": [
    "def Strand7(H:float, ang_d:float, w:float, L:float = 0.0001, delat:float= 0.5):\n",
    "    H = H * 1000.0\n",
    "    L= L * 1000.0\n",
    "    \n",
    "    D_h = 0\n",
    "    L_D_h = L\n",
    "    while D_h <= H/150:\n",
    "        D_h = frame_cal(H, L_D_h, w, ang_d)[3]\n",
    "        print (L_D_h, D_h)\n",
    "        L_D_h+=delat\n",
    "\n",
    "    \n",
    "    L_D_h = L_D_h-delat * 2\n",
    "    D_h = frame_cal(H, L_D_h, w, ang_d)[3]\n",
    "    print ('D_h criteria: ', L_D_h/1000, D_h)"
   ]
  },
  {
   "cell_type": "code",
   "execution_count": 37,
   "id": "dbc914ef-edfa-4a3c-a918-dbbcd5c40d0a",
   "metadata": {},
   "outputs": [
    {
     "name": "stdout",
     "output_type": "stream",
     "text": [
      "0.1 0.0\n",
      "0.6 1023052.8042858598\n",
      "D_h criteria:  0.00010000000000000009 0.0\n"
     ]
    }
   ],
   "source": [
    "Strand7(3,10,2.1)"
   ]
  },
  {
   "cell_type": "code",
   "execution_count": 12,
   "id": "10372726-bca8-4798-b4c6-9a2a0dfa1693",
   "metadata": {},
   "outputs": [],
   "source": [
    "def Strand7(H:float, ang_d:float, w:float, L:float = 1.0, delat:float= 0.1):\n",
    "    H = H * 1000.0\n",
    "    L= L * 1000.0\n",
    "    \n",
    "    M = 0.0\n",
    "    L_M = L\n",
    "    while M <= 35.03:\n",
    "        M = frame_cal(H, L_M, w, ang_d)[0]\n",
    "        L_M+=delat\n",
    "    \n",
    "    L_M = L_M-delat * 2\n",
    "    M = frame_cal(H, L_M, w, ang_d)[0]\n",
    "    print ('Moment criteria: ', L_M/1000, M)\n",
    "\n",
    "\n",
    "    V = 0\n",
    "    L_V = L + 35000\n",
    "    while V <= 146.88:\n",
    "        V = frame_cal(H, L_V, w, ang_d)[1]\n",
    "        L_V+=delat\n",
    "    L_V = L_V-delat * 2\n",
    "    V = frame_cal(H, L_V, w, ang_d)[1]\n",
    "    print ('Shear criteria: ', L_V/1000, V)\n",
    "\n",
    "    \n",
    "    D_h = 0\n",
    "    L_D_h = L\n",
    "    while D_h <= H/150:\n",
    "        D_h = frame_cal(H, L_D_h, w, ang_d)[3]\n",
    "        L_D_h+=delat\n",
    "    L_D_h = L_D_h-delat * 2\n",
    "    D_h = frame_cal(H, L_D_h, w, ang_d)[3]\n",
    "    print ('D_h criteria: ', L_D_h/1000, D_h)\n",
    "\n",
    "    \n",
    "    D_v = 0\n",
    "    L_D_v= L\n",
    "    while D_v <= L_D_v/250:\n",
    "        D_v = frame_cal(H, L_D_v, w, ang_d)[2]\n",
    "        L_D_v+=delat\n",
    "    L_D_v = L_D_v-delat * 2\n",
    "    D_v = frame_cal(H, L_D_v, w, ang_d)[2]    \n",
    "    \n",
    "    print ('D_v criteria: ', L_D_v/1000, D_v)\n",
    "    \n",
    "    L_old = min (L_M, L_V, L_D_h, L_D_v)\n",
    "\n",
    "    M_old = frame_cal(H, L_old, w, ang_d)[0]\n",
    "    print ('Old Moment Max', M_old)\n",
    "    print('Old L max', L_old )\n",
    "    \n",
    "    L_new = 2 * L_old\n",
    "    M_new = frame_cal(H, L_new, w, ang_d)[0]\n",
    "    print ('New Moment Max', M_new)   \n",
    "    print('New L max', L_new)\n",
    "    #return L_M, L_V, L_D_h, L_D_v\n",
    "    "
   ]
  },
  {
   "cell_type": "code",
   "execution_count": 13,
   "id": "b4e4b563-ae19-4def-912a-02b3157d7f66",
   "metadata": {},
   "outputs": [
    {
     "name": "stdout",
     "output_type": "stream",
     "text": [
      "Moment criteria:  13.786800000032466 35.029931867421645\n",
      "Shear criteria:  69.26839999978746 146.87975268070085\n",
      "D_h criteria:  0.9999 22.9981348484372\n"
     ]
    },
    {
     "ename": "KeyboardInterrupt",
     "evalue": "",
     "output_type": "error",
     "traceback": [
      "\u001b[1;31m---------------------------------------------------------------------------\u001b[0m",
      "\u001b[1;31mKeyboardInterrupt\u001b[0m                         Traceback (most recent call last)",
      "Cell \u001b[1;32mIn[13], line 1\u001b[0m\n\u001b[1;32m----> 1\u001b[0m \u001b[43mStrand7\u001b[49m\u001b[43m(\u001b[49m\u001b[38;5;241;43m3\u001b[39;49m\u001b[43m,\u001b[49m\u001b[38;5;241;43m10\u001b[39;49m\u001b[43m,\u001b[49m\u001b[38;5;241;43m2.1\u001b[39;49m\u001b[43m)\u001b[49m\n",
      "Cell \u001b[1;32mIn[12], line 39\u001b[0m, in \u001b[0;36mStrand7\u001b[1;34m(H, ang_d, w, L, delat)\u001b[0m\n\u001b[0;32m     37\u001b[0m L_D_v\u001b[38;5;241m=\u001b[39m L\n\u001b[0;32m     38\u001b[0m \u001b[38;5;28;01mwhile\u001b[39;00m D_v \u001b[38;5;241m<\u001b[39m\u001b[38;5;241m=\u001b[39m L_D_v\u001b[38;5;241m/\u001b[39m\u001b[38;5;241m250\u001b[39m:\n\u001b[1;32m---> 39\u001b[0m     D_v \u001b[38;5;241m=\u001b[39m \u001b[43mframe_cal\u001b[49m\u001b[43m(\u001b[49m\u001b[43mH\u001b[49m\u001b[43m,\u001b[49m\u001b[43m \u001b[49m\u001b[43mL_D_v\u001b[49m\u001b[43m,\u001b[49m\u001b[43m \u001b[49m\u001b[43mw\u001b[49m\u001b[43m,\u001b[49m\u001b[43m \u001b[49m\u001b[43mang_d\u001b[49m\u001b[43m)\u001b[49m[\u001b[38;5;241m2\u001b[39m]\n\u001b[0;32m     40\u001b[0m     L_D_v\u001b[38;5;241m+\u001b[39m\u001b[38;5;241m=\u001b[39mdelat\n\u001b[0;32m     41\u001b[0m L_D_v \u001b[38;5;241m=\u001b[39m L_D_v\u001b[38;5;241m-\u001b[39mdelat \u001b[38;5;241m*\u001b[39m \u001b[38;5;241m2\u001b[39m\n",
      "Cell \u001b[1;32mIn[11], line 55\u001b[0m, in \u001b[0;36mframe_cal\u001b[1;34m(H, L, w, ang_d)\u001b[0m\n\u001b[0;32m     49\u001b[0m frame_model\u001b[38;5;241m.\u001b[39mdef_support(\u001b[38;5;124m'\u001b[39m\u001b[38;5;124mnode5\u001b[39m\u001b[38;5;124m'\u001b[39m, \u001b[38;5;28;01mTrue\u001b[39;00m, \u001b[38;5;28;01mTrue\u001b[39;00m, \u001b[38;5;28;01mTrue\u001b[39;00m, \u001b[38;5;28;01mTrue\u001b[39;00m, \u001b[38;5;28;01mTrue\u001b[39;00m, \u001b[38;5;28;01mFalse\u001b[39;00m)\n\u001b[0;32m     52\u001b[0m \u001b[38;5;66;03m#render_model(frame_model, combo_name=\"L\", annotation_size=0.1)\u001b[39;00m\n\u001b[0;32m     53\u001b[0m \n\u001b[0;32m     54\u001b[0m \u001b[38;5;66;03m#Submit for analysis\u001b[39;00m\n\u001b[1;32m---> 55\u001b[0m \u001b[43mframe_model\u001b[49m\u001b[38;5;241;43m.\u001b[39;49m\u001b[43manalyze\u001b[49m\u001b[43m(\u001b[49m\u001b[43m)\u001b[49m\n\u001b[0;32m     57\u001b[0m \u001b[38;5;66;03m#Node Vertical Displacement\u001b[39;00m\n\u001b[0;32m     58\u001b[0m node_v_1 \u001b[38;5;241m=\u001b[39m frame_model\u001b[38;5;241m.\u001b[39mNodes[\u001b[38;5;124m'\u001b[39m\u001b[38;5;124mnode1\u001b[39m\u001b[38;5;124m'\u001b[39m]\u001b[38;5;241m.\u001b[39mDY\n",
      "File \u001b[1;32m~\\miniconda3\\envs\\pfse\\lib\\site-packages\\PyNite\\FEModel3D.py:1998\u001b[0m, in \u001b[0;36mFEModel3D.analyze\u001b[1;34m(self, log, check_stability, check_statics, max_iter, sparse, combo_tags)\u001b[0m\n\u001b[0;32m   1995\u001b[0m         iter_count \u001b[38;5;241m+\u001b[39m\u001b[38;5;241m=\u001b[39m \u001b[38;5;241m1\u001b[39m\n\u001b[0;32m   1997\u001b[0m \u001b[38;5;66;03m# Calculate reactions\u001b[39;00m\n\u001b[1;32m-> 1998\u001b[0m \u001b[43mAnalysis\u001b[49m\u001b[38;5;241;43m.\u001b[39;49m\u001b[43m_calc_reactions\u001b[49m\u001b[43m(\u001b[49m\u001b[38;5;28;43mself\u001b[39;49m\u001b[43m,\u001b[49m\u001b[43m \u001b[49m\u001b[43mlog\u001b[49m\u001b[43m,\u001b[49m\u001b[43m \u001b[49m\u001b[43mcombo_tags\u001b[49m\u001b[43m)\u001b[49m\n\u001b[0;32m   2000\u001b[0m \u001b[38;5;28;01mif\u001b[39;00m log:\n\u001b[0;32m   2001\u001b[0m     \u001b[38;5;28mprint\u001b[39m(\u001b[38;5;124m'\u001b[39m\u001b[38;5;124m'\u001b[39m)     \n",
      "File \u001b[1;32m~\\miniconda3\\envs\\pfse\\lib\\site-packages\\PyNite\\Analysis.py:687\u001b[0m, in \u001b[0;36m_calc_reactions\u001b[1;34m(model, log, combo_tags)\u001b[0m\n\u001b[0;32m    681\u001b[0m \u001b[38;5;28;01mfor\u001b[39;00m member \u001b[38;5;129;01min\u001b[39;00m phys_member\u001b[38;5;241m.\u001b[39msub_members\u001b[38;5;241m.\u001b[39mvalues():\n\u001b[0;32m    683\u001b[0m     \u001b[38;5;28;01mif\u001b[39;00m member\u001b[38;5;241m.\u001b[39mi_node \u001b[38;5;241m==\u001b[39m node \u001b[38;5;129;01mand\u001b[39;00m phys_member\u001b[38;5;241m.\u001b[39mactive[combo\u001b[38;5;241m.\u001b[39mname] \u001b[38;5;241m==\u001b[39m \u001b[38;5;28;01mTrue\u001b[39;00m:\n\u001b[0;32m    684\u001b[0m     \n\u001b[0;32m    685\u001b[0m         \u001b[38;5;66;03m# Get the member's global force matrix\u001b[39;00m\n\u001b[0;32m    686\u001b[0m         \u001b[38;5;66;03m# Storing it as a local variable eliminates the need to rebuild it every time a term is needed                    \u001b[39;00m\n\u001b[1;32m--> 687\u001b[0m         member_F \u001b[38;5;241m=\u001b[39m \u001b[43mmember\u001b[49m\u001b[38;5;241;43m.\u001b[39;49m\u001b[43mF\u001b[49m\u001b[43m(\u001b[49m\u001b[43mcombo\u001b[49m\u001b[38;5;241;43m.\u001b[39;49m\u001b[43mname\u001b[49m\u001b[43m)\u001b[49m\n\u001b[0;32m    689\u001b[0m         node\u001b[38;5;241m.\u001b[39mRxnFX[combo\u001b[38;5;241m.\u001b[39mname] \u001b[38;5;241m+\u001b[39m\u001b[38;5;241m=\u001b[39m member_F[\u001b[38;5;241m0\u001b[39m, \u001b[38;5;241m0\u001b[39m]\n\u001b[0;32m    690\u001b[0m         node\u001b[38;5;241m.\u001b[39mRxnFY[combo\u001b[38;5;241m.\u001b[39mname] \u001b[38;5;241m+\u001b[39m\u001b[38;5;241m=\u001b[39m member_F[\u001b[38;5;241m1\u001b[39m, \u001b[38;5;241m0\u001b[39m]\n",
      "File \u001b[1;32m~\\miniconda3\\envs\\pfse\\lib\\site-packages\\PyNite\\Member3D.py:611\u001b[0m, in \u001b[0;36mMember3D.F\u001b[1;34m(self, combo_name)\u001b[0m\n\u001b[0;32m    606\u001b[0m \u001b[38;5;250m\u001b[39m\u001b[38;5;124;03m\"\"\"\u001b[39;00m\n\u001b[0;32m    607\u001b[0m \u001b[38;5;124;03mReturns the member's global end force vector for the given load combination.\u001b[39;00m\n\u001b[0;32m    608\u001b[0m \u001b[38;5;124;03m\"\"\"\u001b[39;00m\n\u001b[0;32m    610\u001b[0m \u001b[38;5;66;03m# Calculate and return the global force vector\u001b[39;00m\n\u001b[1;32m--> 611\u001b[0m \u001b[38;5;28;01mreturn\u001b[39;00m matmul(inv(\u001b[38;5;28mself\u001b[39m\u001b[38;5;241m.\u001b[39mT()), \u001b[38;5;28;43mself\u001b[39;49m\u001b[38;5;241;43m.\u001b[39;49m\u001b[43mf\u001b[49m\u001b[43m(\u001b[49m\u001b[43mcombo_name\u001b[49m\u001b[43m)\u001b[49m)\n",
      "File \u001b[1;32m~\\miniconda3\\envs\\pfse\\lib\\site-packages\\PyNite\\Member3D.py:447\u001b[0m, in \u001b[0;36mMember3D.f\u001b[1;34m(self, combo_name, push_combo, step_num)\u001b[0m\n\u001b[0;32m    445\u001b[0m     \u001b[38;5;28;01mreturn\u001b[39;00m add(matmul(add(\u001b[38;5;28mself\u001b[39m\u001b[38;5;241m.\u001b[39mk(), \u001b[38;5;28mself\u001b[39m\u001b[38;5;241m.\u001b[39mkg(P), \u001b[38;5;28mself\u001b[39m\u001b[38;5;241m.\u001b[39mkm(combo_name, push_combo, step_num)), \u001b[38;5;28mself\u001b[39m\u001b[38;5;241m.\u001b[39md(combo_name)), \u001b[38;5;28mself\u001b[39m\u001b[38;5;241m.\u001b[39mfer(combo_name))\n\u001b[0;32m    446\u001b[0m \u001b[38;5;28;01melse\u001b[39;00m:\n\u001b[1;32m--> 447\u001b[0m     \u001b[38;5;28;01mreturn\u001b[39;00m add(matmul(\u001b[38;5;28mself\u001b[39m\u001b[38;5;241m.\u001b[39mk(), \u001b[38;5;28;43mself\u001b[39;49m\u001b[38;5;241;43m.\u001b[39;49m\u001b[43md\u001b[49m\u001b[43m(\u001b[49m\u001b[43mcombo_name\u001b[49m\u001b[43m)\u001b[49m), \u001b[38;5;28mself\u001b[39m\u001b[38;5;241m.\u001b[39mfer(combo_name))\n",
      "File \u001b[1;32m~\\miniconda3\\envs\\pfse\\lib\\site-packages\\PyNite\\Member3D.py:461\u001b[0m, in \u001b[0;36mMember3D.d\u001b[1;34m(self, combo_name)\u001b[0m\n\u001b[0;32m    451\u001b[0m \u001b[38;5;250m\u001b[39m\u001b[38;5;124;03m\"\"\"\u001b[39;00m\n\u001b[0;32m    452\u001b[0m \u001b[38;5;124;03mReturns the member's local displacement vector.\u001b[39;00m\n\u001b[0;32m    453\u001b[0m \n\u001b[1;32m   (...)\u001b[0m\n\u001b[0;32m    457\u001b[0m \u001b[38;5;124;03m    The name of the load combination to construct the displacement vector for (not the load combination itself).\u001b[39;00m\n\u001b[0;32m    458\u001b[0m \u001b[38;5;124;03m\"\"\"\u001b[39;00m\n\u001b[0;32m    460\u001b[0m \u001b[38;5;66;03m# Calculate and return the local displacement vector\u001b[39;00m\n\u001b[1;32m--> 461\u001b[0m \u001b[38;5;28;01mreturn\u001b[39;00m matmul(\u001b[38;5;28;43mself\u001b[39;49m\u001b[38;5;241;43m.\u001b[39;49m\u001b[43mT\u001b[49m\u001b[43m(\u001b[49m\u001b[43m)\u001b[49m, \u001b[38;5;28mself\u001b[39m\u001b[38;5;241m.\u001b[39mD(combo_name))\n",
      "File \u001b[1;32m~\\miniconda3\\envs\\pfse\\lib\\site-packages\\PyNite\\Member3D.py:559\u001b[0m, in \u001b[0;36mMember3D.T\u001b[1;34m(self)\u001b[0m\n\u001b[0;32m    557\u001b[0m transMatrix \u001b[38;5;241m=\u001b[39m zeros((\u001b[38;5;241m12\u001b[39m, \u001b[38;5;241m12\u001b[39m))\n\u001b[0;32m    558\u001b[0m transMatrix[\u001b[38;5;241m0\u001b[39m:\u001b[38;5;241m3\u001b[39m, \u001b[38;5;241m0\u001b[39m:\u001b[38;5;241m3\u001b[39m] \u001b[38;5;241m=\u001b[39m dirCos\n\u001b[1;32m--> 559\u001b[0m \u001b[43mtransMatrix\u001b[49m\u001b[43m[\u001b[49m\u001b[38;5;241;43m3\u001b[39;49m\u001b[43m:\u001b[49m\u001b[38;5;241;43m6\u001b[39;49m\u001b[43m,\u001b[49m\u001b[43m \u001b[49m\u001b[38;5;241;43m3\u001b[39;49m\u001b[43m:\u001b[49m\u001b[38;5;241;43m6\u001b[39;49m\u001b[43m]\u001b[49m \u001b[38;5;241m=\u001b[39m dirCos\n\u001b[0;32m    560\u001b[0m transMatrix[\u001b[38;5;241m6\u001b[39m:\u001b[38;5;241m9\u001b[39m, \u001b[38;5;241m6\u001b[39m:\u001b[38;5;241m9\u001b[39m] \u001b[38;5;241m=\u001b[39m dirCos\n\u001b[0;32m    561\u001b[0m transMatrix[\u001b[38;5;241m9\u001b[39m:\u001b[38;5;241m12\u001b[39m, \u001b[38;5;241m9\u001b[39m:\u001b[38;5;241m12\u001b[39m] \u001b[38;5;241m=\u001b[39m dirCos\n",
      "\u001b[1;31mKeyboardInterrupt\u001b[0m: "
     ]
    }
   ],
   "source": [
    "Strand7(3,10,2.1)"
   ]
  },
  {
   "cell_type": "code",
   "execution_count": 9,
   "id": "55789aa8-7e2a-49a5-9cd1-c4592ff62a3d",
   "metadata": {},
   "outputs": [
    {
     "name": "stdout",
     "output_type": "stream",
     "text": [
      "Moment criteria:  14.409 35.02800091066197\n",
      "Shear criteria:  84.502 146.87883455622446\n",
      "D_h criteria:  0.999 23.066975117550097\n",
      "D_v criteria:  10.975 43.900675611521365\n",
      "Old Moment Max 9.507962192760242\n",
      "Old L max 999.0\n",
      "New Moment Max 9.794852892159494\n",
      "New L max 1998.0\n"
     ]
    }
   ],
   "source": [
    "Strand7(3,15,2.1)"
   ]
  },
  {
   "cell_type": "code",
   "execution_count": 7,
   "id": "38891473-c9c2-400f-a4de-c55f3f320078",
   "metadata": {},
   "outputs": [
    {
     "name": "stdout",
     "output_type": "stream",
     "text": [
      "Moment criteria:  16.246 35.027673902151115\n",
      "Shear criteria:  56.521 146.87741075475947\n",
      "D_h criteria:  13.584 20.66455005625099\n",
      "D_v criteria:  11.7 46.80223220371277\n",
      "Old Moment Max 20.520353866431417\n",
      "Old L max 11700.0\n",
      "New Moment Max 67.76104185470827\n",
      "New L max 23400.0\n"
     ]
    }
   ],
   "source": [
    "Strand7(3.1,10,2)"
   ]
  },
  {
   "cell_type": "code",
   "execution_count": 8,
   "id": "51d2ee8f-0057-45ec-a9ab-9942c7b0d310",
   "metadata": {},
   "outputs": [
    {
     "name": "stdout",
     "output_type": "stream",
     "text": [
      "Moment criteria:  14.219 35.02662572731221\n",
      "Shear criteria:  68.037 146.8790038530801\n",
      "D_h criteria:  10.997 20.66658862858625\n",
      "D_v criteria:  12.571 50.28430229464696\n",
      "Old Moment Max 24.667177549399444\n",
      "Old L max 10997.0\n",
      "New Moment Max 65.82757853351667\n",
      "New L max 21994.0\n"
     ]
    }
   ],
   "source": [
    "Strand7(3.1,17,2.7)"
   ]
  },
  {
   "cell_type": "code",
   "execution_count": 9,
   "id": "1fed7c51-3c7f-4e07-82a4-835b92aee6fe",
   "metadata": {},
   "outputs": [
    {
     "name": "stdout",
     "output_type": "stream",
     "text": [
      "Moment criteria:  15.518 35.02972121873805\n",
      "Shear criteria:  63.785 146.87944190933274\n",
      "D_h criteria:  12.319 21.331140582440113\n",
      "D_v criteria:  11.973 47.893741849239326\n",
      "Old Moment Max 23.617521181184465\n",
      "Old L max 11973.0\n",
      "New Moment Max 71.514247814501\n",
      "New L max 23946.0\n"
     ]
    }
   ],
   "source": [
    "Strand7(3.2,13,2.2)"
   ]
  },
  {
   "cell_type": "code",
   "execution_count": 10,
   "id": "b9aeb4ac-8d29-4d73-967e-88bdab16cf45",
   "metadata": {},
   "outputs": [
    {
     "name": "stdout",
     "output_type": "stream",
     "text": [
      "Moment criteria:  15.242 35.02754223437663\n",
      "Shear criteria:  76.56 146.87865169092248\n",
      "D_h criteria:  11.517 21.332896224798006\n",
      "D_v criteria:  13.165 52.658135423101314\n",
      "Old Moment Max 23.806314747601554\n",
      "Old L max 11517.0\n",
      "New Moment Max 63.638306898065615\n",
      "New L max 23034.0\n"
     ]
    }
   ],
   "source": [
    "Strand7(3.2,17,2.4)"
   ]
  },
  {
   "cell_type": "code",
   "execution_count": 11,
   "id": "8ea846e0-3887-4276-8ee4-878c2a59a01a",
   "metadata": {},
   "outputs": [
    {
     "name": "stdout",
     "output_type": "stream",
     "text": [
      "Moment criteria:  13.151 35.02663359908375\n",
      "Shear criteria:  51.697 146.87978138477305\n",
      "D_h criteria:  10.281 21.99787419909893\n",
      "D_v criteria:  10.438 41.75308338610338\n",
      "Old Moment Max 25.06425339884939\n",
      "Old L max 10281.0\n",
      "New Moment Max 71.57218117399657\n",
      "New L max 20562.0\n"
     ]
    }
   ],
   "source": [
    "Strand7(3.3,13,2.8)"
   ]
  },
  {
   "cell_type": "code",
   "execution_count": 12,
   "id": "4f1070e2-63a6-469d-9736-15a1ac964edb",
   "metadata": {},
   "outputs": [
    {
     "name": "stdout",
     "output_type": "stream",
     "text": [
      "Moment criteria:  13.544 35.02941079432201\n",
      "Shear criteria:  56.568 146.87733089419152\n",
      "D_h criteria:  10.457 21.99949576657061\n",
      "D_v criteria:  10.904 43.616320286634526\n",
      "Old Moment Max 24.631421089641503\n",
      "Old L max 10457.0\n",
      "New Moment Max 69.24025404072529\n",
      "New L max 20914.0\n"
     ]
    }
   ],
   "source": [
    "Strand7(3.3,14,2.7)"
   ]
  },
  {
   "cell_type": "code",
   "execution_count": 13,
   "id": "823d809f-0bab-4d65-b532-35ce6299c5a5",
   "metadata": {},
   "outputs": [
    {
     "name": "stdout",
     "output_type": "stream",
     "text": [
      "Moment criteria:  15.643 35.027184381514125\n",
      "Shear criteria:  73.034 146.8799659422636\n",
      "D_h criteria:  11.892 21.99762674174128\n",
      "D_v criteria:  12.536 50.14698097008716\n",
      "Old Moment Max 23.59845302614886\n",
      "Old L max 11892.0\n",
      "New Moment Max 66.9267743779617\n",
      "New L max 23784.0\n"
     ]
    }
   ],
   "source": [
    "Strand7(3.3,15,2.2)"
   ]
  },
  {
   "cell_type": "code",
   "execution_count": 14,
   "id": "e27d7dd1-a453-4a46-b023-3c993fdfa122",
   "metadata": {},
   "outputs": [
    {
     "name": "stdout",
     "output_type": "stream",
     "text": [
      "Moment criteria:  15.511 35.02880510959482\n",
      "Shear criteria:  79.896 146.8797963829208\n",
      "D_h criteria:  11.493 21.99726788838092\n",
      "D_v criteria:  13.168 52.67176126423224\n",
      "Old Moment Max 23.26599603507647\n",
      "Old L max 11493.0\n",
      "New Moment Max 61.93603000778714\n",
      "New L max 22986.0\n"
     ]
    }
   ],
   "source": [
    "Strand7(3.3,17,2.3)"
   ]
  },
  {
   "cell_type": "code",
   "execution_count": 15,
   "id": "e0d9d3e5-dd34-4c10-931b-6af15f99df92",
   "metadata": {},
   "outputs": [
    {
     "name": "stdout",
     "output_type": "stream",
     "text": [
      "Moment criteria:  13.943 35.02825128852371\n",
      "Shear criteria:  48.405 146.87610985945904\n",
      "D_h criteria:  11.171 22.665799796221183\n",
      "D_v criteria:  10.186 40.74278384103436\n",
      "Old Moment Max 22.614686592171754\n",
      "Old L max 10186.0\n",
      "New Moment Max 66.91941006658611\n",
      "New L max 20372.0\n"
     ]
    }
   ],
   "source": [
    "Strand7(3.4,10,2.5)"
   ]
  },
  {
   "cell_type": "code",
   "execution_count": 16,
   "id": "a78fd43d-0afb-4212-aed4-4222fbeee6a0",
   "metadata": {},
   "outputs": [
    {
     "name": "stdout",
     "output_type": "stream",
     "text": [
      "Moment criteria:  14.293 35.02918763825212\n",
      "Shear criteria:  59.551 146.87734301346717\n",
      "D_h criteria:  10.727 23.330599593821752\n",
      "D_v criteria:  10.954 43.81816256035965\n",
      "Old Moment Max 23.692355970731544\n",
      "Old L max 10727.0\n",
      "New Moment Max 67.18014105933167\n",
      "New L max 21454.0\n"
     ]
    }
   ],
   "source": [
    "Strand7(3.5,13,2.4)"
   ]
  },
  {
   "cell_type": "code",
   "execution_count": 17,
   "id": "ade3d0aa-4866-4b66-8ed5-0ebee29c33a3",
   "metadata": {},
   "outputs": [
    {
     "name": "stdout",
     "output_type": "stream",
     "text": [
      "Moment criteria:  14.564 35.02659872353479\n",
      "Shear criteria:  62.031 146.87910916904093\n",
      "D_h criteria:  10.697 23.99836964362495\n",
      "D_v criteria:  11.04 44.16024992002614\n",
      "Old Moment Max 23.147908292146806\n",
      "Old L max 10697.0\n",
      "New Moment Max 64.70781900367604\n",
      "New L max 21394.0\n"
     ]
    }
   ],
   "source": [
    "Strand7(3.6,13,2.3)"
   ]
  },
  {
   "cell_type": "code",
   "execution_count": 18,
   "id": "96519792-0d4a-463a-b64a-76354ac4066b",
   "metadata": {},
   "outputs": [
    {
     "name": "stdout",
     "output_type": "stream",
     "text": [
      "Moment criteria:  16.144 35.02951101528604\n",
      "Shear criteria:  93.561 146.87981361949437\n",
      "D_h criteria:  11.102 23.998595434510946\n",
      "D_v criteria:  13.485 53.93879499346957\n",
      "Old Moment Max 21.686821024248786\n",
      "Old L max 11102.0\n",
      "New Moment Max 54.83392762220325\n",
      "New L max 22204.0\n"
     ]
    }
   ],
   "source": [
    "Strand7(3.6,18,2.1)"
   ]
  },
  {
   "cell_type": "code",
   "execution_count": 19,
   "id": "a4fc9bc6-504b-43c5-a34d-70f615260167",
   "metadata": {},
   "outputs": [
    {
     "name": "stdout",
     "output_type": "stream",
     "text": [
      "Moment criteria:  14.196 35.027392520720554\n",
      "Shear criteria:  78.321 146.87988856299978\n",
      "D_h criteria:  9.66 23.997567848572398\n",
      "D_v criteria:  12.15 48.602522620559526\n",
      "Old Moment Max 22.21674304362454\n",
      "Old L max 9660.0\n",
      "New Moment Max 53.6575536480532\n",
      "New L max 19320.0\n"
     ]
    }
   ],
   "source": [
    "Strand7(3.6,18,2.5)"
   ]
  },
  {
   "cell_type": "code",
   "execution_count": 20,
   "id": "c2fcc71a-1805-4b80-a8c3-9bd2d218d91a",
   "metadata": {},
   "outputs": [
    {
     "name": "stdout",
     "output_type": "stream",
     "text": [
      "Moment criteria:  13.711 35.02755908821275\n",
      "Shear criteria:  65.06 146.87930062284295\n",
      "D_h criteria:  9.413 24.666170408693773\n",
      "D_v criteria:  10.961 43.84680215601905\n",
      "Old Moment Max 22.409006593694393\n",
      "Old L max 9413.0\n",
      "New Moment Max 55.794483796793514\n",
      "New L max 18826.0\n"
     ]
    }
   ],
   "source": [
    "Strand7(3.7,15,2.5)"
   ]
  },
  {
   "cell_type": "code",
   "execution_count": 21,
   "id": "23934b47-2886-4894-b984-4d98bba916e2",
   "metadata": {},
   "outputs": [
    {
     "name": "stdout",
     "output_type": "stream",
     "text": [
      "Moment criteria:  13.177 35.02926731462588\n",
      "Shear criteria:  72.479 146.8798536767644\n",
      "D_h criteria:  8.545 24.665760845658568\n",
      "D_v criteria:  11.408 45.62998806077748\n",
      "Old Moment Max 22.016112343619483\n",
      "Old L max 8545.0\n",
      "New Moment Max 49.57134308731417\n",
      "New L max 17090.0\n"
     ]
    }
   ],
   "source": [
    "Strand7(3.7,18,2.7)"
   ]
  },
  {
   "cell_type": "code",
   "execution_count": 22,
   "id": "6a954f52-0292-49cb-8d74-89c5bf0090e9",
   "metadata": {},
   "outputs": [
    {
     "name": "stdout",
     "output_type": "stream",
     "text": [
      "Moment criteria:  14.323 35.028876626387394\n",
      "Shear criteria:  66.275 146.87904400400888\n",
      "D_h criteria:  9.785 25.33239117834883\n",
      "D_v criteria:  11.017 44.07006853462166\n",
      "Old Moment Max 22.03087572650111\n",
      "Old L max 9785.0\n",
      "New Moment Max 56.11343663695842\n",
      "New L max 19570.0\n"
     ]
    }
   ],
   "source": [
    "Strand7(3.8,14,2.3)"
   ]
  },
  {
   "cell_type": "code",
   "execution_count": 23,
   "id": "2f8eac46-ff66-48f0-9fea-8acbcac7844e",
   "metadata": {},
   "outputs": [
    {
     "name": "stdout",
     "output_type": "stream",
     "text": [
      "Moment criteria:  11.821 35.02711719574756\n",
      "Shear criteria:  45.12 146.87579105996153\n",
      "D_h criteria:  7.352 25.99853326288895\n",
      "D_v criteria:  9.122 36.488165309971436\n",
      "Old Moment Max 22.39493056628265\n",
      "Old L max 7352.0\n",
      "New Moment Max 47.0753864238066\n",
      "New L max 14704.0\n"
     ]
    }
   ],
   "source": [
    "Strand7(3.9,10,2.9)"
   ]
  },
  {
   "cell_type": "code",
   "execution_count": 10,
   "id": "ccbbc7de-7051-4503-b90e-a245f546d323",
   "metadata": {},
   "outputs": [
    {
     "name": "stdout",
     "output_type": "stream",
     "text": [
      "Moment criteria:  12.605 35.029853677853616\n",
      "Shear criteria:  83.203 146.87788780800497\n",
      "D_h criteria:  0.999 60.923793301935206\n",
      "D_v criteria:  9.918 39.67288847871076\n",
      "Old Moment Max 15.256208716134257\n",
      "Old L max 999.0\n",
      "New Moment Max 15.498558100400404\n",
      "New L max 1998.0\n"
     ]
    }
   ],
   "source": [
    "Strand7(3.9,12,2)"
   ]
  },
  {
   "cell_type": "code",
   "execution_count": null,
   "id": "71bbbc10-e000-4af3-8256-7187ecffe342",
   "metadata": {},
   "outputs": [],
   "source": []
  }
 ],
 "metadata": {
  "kernelspec": {
   "display_name": "pfse",
   "language": "python",
   "name": "pfse"
  },
  "language_info": {
   "codemirror_mode": {
    "name": "ipython",
    "version": 3
   },
   "file_extension": ".py",
   "mimetype": "text/x-python",
   "name": "python",
   "nbconvert_exporter": "python",
   "pygments_lexer": "ipython3",
   "version": "3.9.18"
  }
 },
 "nbformat": 4,
 "nbformat_minor": 5
}

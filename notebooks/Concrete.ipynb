{
 "cells": [
  {
   "cell_type": "markdown",
   "id": "b00fb496-6746-4d72-beb4-90763444887c",
   "metadata": {},
   "source": [
    "# Concrete Flexural Capacity - For a given A<sub>s</sub>"
   ]
  },
  {
   "cell_type": "code",
   "execution_count": 42,
   "id": "e7011a29-b288-4013-95bc-7a8ad7f7a718",
   "metadata": {},
   "outputs": [],
   "source": [
    "#handcalcs.set_option('decimal_separator', '.')\n",
    "handcalcs.set_option('param_columns', 5 )\n",
    "handcalcs.set_option('display_precision',1)"
   ]
  },
  {
   "cell_type": "code",
   "execution_count": 10,
   "id": "60ad3279-17d4-4773-bbd3-01073f227ded",
   "metadata": {},
   "outputs": [],
   "source": [
    "from math import pi, sqrt\n",
    "import handcalcs.render\n",
    "import forallpeople"
   ]
  },
  {
   "cell_type": "code",
   "execution_count": 11,
   "id": "94cb7b99-0204-4c89-9a3c-4c8ad7f6fd60",
   "metadata": {},
   "outputs": [],
   "source": [
    "forallpeople.environment('structural', top_level=True)"
   ]
  },
  {
   "cell_type": "code",
   "execution_count": 44,
   "id": "1bf61c1c-48e4-42ab-8872-cf1ee0ebf1a0",
   "metadata": {},
   "outputs": [
    {
     "data": {
      "text/latex": [
       "\\[\n",
       "\\begin{aligned}\n",
       "d &= \\left( 700 - 35 \\right) \\cdot \\mathrm{mm}  = \\left( 700 - 35 \\right) \\cdot mm &= 665.0\\ \\mathrm{mm}  \n",
       "\\\\[10pt]\n",
       "b_{w} &= 300 \\cdot \\mathrm{mm}  = 300 \\cdot mm &= 300.0\\ \\mathrm{mm}  \n",
       "\\\\[10pt]\n",
       "f_{c} &= 25 \\cdot \\mathrm{MPa}  = 25 \\cdot MPa &= 25.0\\ \\mathrm{MPa}  \n",
       "\\\\[10pt]\n",
       "f_{y} &= 400 \\cdot \\mathrm{MPa}  = 400 \\cdot MPa &= 400.0\\ \\mathrm{MPa}  \n",
       "\\\\[10pt]\n",
       "d_{b} &= 30 \\cdot \\mathrm{mm}  = 30 \\cdot mm &= 30.0\\ \\mathrm{mm}  \n",
       "\\\\[10pt]\n",
       "A_{s} &= 3 \\cdot \\left( \\pi \\cdot \\frac{ \\left( d_{b} \\right) ^{ 2 } }{ 4 } \\right)  = 3 \\cdot \\left( 3.1 \\cdot \\frac{ \\left( 30.0\\ \\mathrm{mm} \\right) ^{ 2 } }{ 4 } \\right) &= 2120.6\\ \\mathrm{mm}^{2} \\; \\;\\textrm{(3-30M bar)}\n",
       "\\\\[10pt]\n",
       "\\phi_{s} &= 0.8 \\; \n",
       "\\\\[10pt]\n",
       "\\phi_{c} &= 0.7 \\; \n",
       "\\end{aligned}\n",
       "\\]"
      ],
      "text/plain": [
       "<IPython.core.display.Latex object>"
      ]
     },
     "metadata": {},
     "output_type": "display_data"
    }
   ],
   "source": [
    "%%render\n",
    "d = (700 - 35) * mm\n",
    "b_w = 300 * mm\n",
    "f_c = 25 * MPa\n",
    "f_y = 400 * MPa\n",
    "d_b = 30 * mm\n",
    "A_s = 3 * (pi * d_b**2 / 4) # 3-30M bar\n",
    "\n",
    "phi_s = 0.85\n",
    "phi_c = 0.65"
   ]
  },
  {
   "cell_type": "markdown",
   "id": "357e710a-0616-41db-83b5-bc5dc0174b37",
   "metadata": {},
   "source": [
    "## Parameters"
   ]
  },
  {
   "cell_type": "code",
   "execution_count": 38,
   "id": "898850a9-258e-4646-8837-fc4417151712",
   "metadata": {},
   "outputs": [
    {
     "data": {
      "text/latex": [
       "\\[\n",
       "\\begin{aligned}\n",
       "\\alpha_{1} &= 0.85 - 0.0015 \\cdot \\operatorname{float} { \\left( f_{c} \\right) }  = 0.85 - 0.0015 \\cdot \\operatorname{float} { \\left( 25.000\\ \\mathrm{MPa} \\right) } &= 0.812  \n",
       "\\\\[10pt]\n",
       "\\beta_{1} &= 0.97 - 0.0025 \\cdot \\operatorname{float} { \\left( f_{c} \\right) }  = 0.97 - 0.0025 \\cdot \\operatorname{float} { \\left( 25.000\\ \\mathrm{MPa} \\right) } &= 0.907  \n",
       "\\end{aligned}\n",
       "\\]"
      ],
      "text/plain": [
       "<IPython.core.display.Latex object>"
      ]
     },
     "metadata": {},
     "output_type": "display_data"
    }
   ],
   "source": [
    "%%render\n",
    "alpha_1 = 0.85 - 0.0015 * float(f_c)\n",
    "beta_1 = 0.97 - 0.0025* float(f_c)"
   ]
  },
  {
   "cell_type": "markdown",
   "id": "0e1ff98c-7462-41c5-8578-b8178b7d1276",
   "metadata": {},
   "source": [
    "## Moment Capacity"
   ]
  },
  {
   "cell_type": "code",
   "execution_count": 31,
   "id": "8efdd287-9c70-407e-9fb6-b41e5d187047",
   "metadata": {},
   "outputs": [
    {
     "data": {
      "text/latex": [
       "\\[\n",
       "\\begin{aligned}\n",
       "T_{r} &= \\phi_{s} \\cdot f_{y} \\cdot A_{s}  = 1 \\cdot 400\\ \\mathrm{MPa} \\cdot 2121\\ \\mathrm{mm}^{2} &= 721\\ \\mathrm{kN}  \n",
       "\\\\[10pt]\n",
       "a &= \\frac{ T_{r} }{ \\alpha_{1} \\cdot \\phi_{c} \\cdot f_{c} \\cdot b_{w} }  = \\frac{ 721\\ \\mathrm{kN} }{ 1 \\cdot 1 \\cdot 25\\ \\mathrm{MPa} \\cdot 300\\ \\mathrm{mm} } &= 182\\ \\mathrm{mm}  \n",
       "\\\\[10pt]\n",
       "M_{r} &= T_{r} \\cdot \\left( 0.9 \\cdot d - \\frac{ a }{ 2 } \\right)  = 721\\ \\mathrm{kN} \\cdot \\left( 0.9 \\cdot 665\\ \\mathrm{mm} - \\frac{ 182\\ \\mathrm{mm} }{ 2 } \\right) &= 366\\ \\mathrm{kN} \\cdot \\mathrm{m}  \n",
       "\\end{aligned}\n",
       "\\]"
      ],
      "text/plain": [
       "<IPython.core.display.Latex object>"
      ]
     },
     "metadata": {},
     "output_type": "display_data"
    }
   ],
   "source": [
    "%%render short 0\n",
    "T_r = phi_s * f_y * A_s\n",
    "a = T_r / (alpha_1 * phi_c * f_c * b_w)\n",
    "M_r = T_r * (0.9 *d - a / 2)"
   ]
  },
  {
   "cell_type": "markdown",
   "id": "11ac79d0-d770-4db2-9b0c-72d3dcb31821",
   "metadata": {},
   "source": [
    "## Compare to M<sub>cr</sub>"
   ]
  },
  {
   "cell_type": "markdown",
   "id": "917ff17a-8638-4dc2-a8ea-f1793ba29983",
   "metadata": {},
   "source": [
    "### CI. 8.6.4"
   ]
  },
  {
   "cell_type": "code",
   "execution_count": 32,
   "id": "401ab66a-8dd6-4f05-8f21-95480632dd6a",
   "metadata": {},
   "outputs": [
    {
     "data": {
      "text/latex": [
       "\\[\n",
       "\\begin{aligned}\n",
       "f_{r} &= 0.6 \\cdot 1 \\cdot \\sqrt { f_{c} } \\cdot \\mathrm{MPa}  = 0.6 \\cdot 1 \\cdot \\sqrt { 25\\ \\mathrm{MPa} } \\cdot MPa &= 3\\ \\mathrm{MPa}  \n",
       "\\\\[10pt]\n",
       "I_{x} &= \\frac{ b_{w} \\cdot \\left( d \\right) ^{ 3 } }{ 12 }  = \\frac{ 300\\ \\mathrm{mm} \\cdot \\left( 665\\ \\mathrm{mm} \\right) ^{ 3 } }{ 12 } &= 7351990625\\ \\mathrm{mm}^{4}  \n",
       "\\\\[10pt]\n",
       "M_{cr} &= \\frac{ f_{r} \\cdot I_{x} }{ d }  = \\frac{ 3\\ \\mathrm{MPa} \\cdot 7351990625\\ \\mathrm{mm}^{4} }{ 665\\ \\mathrm{mm} } &= 33\\ \\mathrm{kN} \\cdot \\mathrm{m}  \n",
       "\\\\[10pt]\n",
       "M_{cr_{f}} &= 1.2 \\cdot M_{cr}  = 1.2 \\cdot 33\\ \\mathrm{kN} \\cdot \\mathrm{m} &= 40\\ \\mathrm{kN} \\cdot \\mathrm{m}  \n",
       "\\end{aligned}\n",
       "\\]"
      ],
      "text/plain": [
       "<IPython.core.display.Latex object>"
      ]
     },
     "metadata": {},
     "output_type": "display_data"
    }
   ],
   "source": [
    "%%render 0\n",
    "f_r = 0.6 * 1 * sqrt (f_c) * MPa\n",
    "I_x = (b_w * d **3) / 12\n",
    "M_cr = (f_r * I_x) / d\n",
    "M_cr_f = 1.2 * M_cr"
   ]
  },
  {
   "cell_type": "markdown",
   "id": "ab63cb92-bb9a-48ed-ad24-5bbda5184086",
   "metadata": {},
   "source": [
    "# Compare to 0.75P<sub>b</sub>"
   ]
  },
  {
   "cell_type": "code",
   "execution_count": 20,
   "id": "82698726-f42a-41a1-ba4d-792b568723e8",
   "metadata": {},
   "outputs": [
    {
     "data": {
      "text/latex": [
       "\\[\n",
       "\\begin{aligned}\n",
       "c_{ratio} &= \\frac{ 0.0035 }{ 0.0035 + 0.002 } &= 0.636  \n",
       "\\\\[10pt]\n",
       "a_{ratio} &= \\beta_{1} \\cdot c_{ratio}  = 0.907 \\cdot 0.636 &= 0.578  \n",
       "\\\\[10pt]\n",
       "\\rho_{b} &= \\frac{ \\alpha_{1} \\cdot \\phi_{c} \\cdot f_{c} \\cdot a_{ratio} }{ \\phi_{s} \\cdot f_{y} }  = \\frac{ 0.812 \\cdot 0.650 \\cdot 25.000\\ \\mathrm{MPa} \\cdot 0.578 }{ 0.850 \\cdot 400.000\\ \\mathrm{MPa} } &= 0.022  \n",
       "\\\\[10pt]\n",
       "\\rho_{b_{f}} &= 0.75 \\cdot \\rho_{b}  = 0.75 \\cdot 0.022 &= 0.017  \n",
       "\\\\[10pt]\n",
       "\\rho &= \\frac{ A_{s} }{ b_{w} \\cdot d }  = \\frac{ 2120.575\\ \\mathrm{mm}^{2} }{ 300.000\\ \\mathrm{mm} \\cdot 665.000\\ \\mathrm{mm} } &= 0.011  \n",
       "\\end{aligned}\n",
       "\\]"
      ],
      "text/plain": [
       "<IPython.core.display.Latex object>"
      ]
     },
     "metadata": {},
     "output_type": "display_data"
    }
   ],
   "source": [
    "%%render\n",
    "c_ratio = 0.0035 / (0.0035 + 0.002)\n",
    "a_ratio = beta_1 * c_ratio\n",
    "rho_b = (alpha_1*phi_c*f_c*a_ratio)/(phi_s*f_y)\n",
    "\n",
    "rho_b_f = 0.75 * rho_b\n",
    "rho = (A_s) / (b_w * d)"
   ]
  },
  {
   "cell_type": "code",
   "execution_count": null,
   "id": "20854374-2944-43af-9ec1-fbc9db766c31",
   "metadata": {},
   "outputs": [],
   "source": []
  }
 ],
 "metadata": {
  "kernelspec": {
   "display_name": "Python 3.10 (pfse)",
   "language": "python",
   "name": "pfse"
  },
  "language_info": {
   "codemirror_mode": {
    "name": "ipython",
    "version": 3
   },
   "file_extension": ".py",
   "mimetype": "text/x-python",
   "name": "python",
   "nbconvert_exporter": "python",
   "pygments_lexer": "ipython3",
   "version": "3.10.12"
  }
 },
 "nbformat": 4,
 "nbformat_minor": 5
}

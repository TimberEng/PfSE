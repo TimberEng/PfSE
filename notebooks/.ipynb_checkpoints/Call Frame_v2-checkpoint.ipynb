{
 "cells": [
  {
   "cell_type": "code",
   "execution_count": 3,
   "id": "e5099015-cbaa-46fc-9525-d8367bdf706b",
   "metadata": {},
   "outputs": [],
   "source": [
    "from PyNite import FEModel3D\n",
    "from PyNite.Visualization import render_model\n",
    "from math import sqrt\n",
    "from math import tan\n",
    "from math import radians"
   ]
  },
  {
   "cell_type": "code",
   "execution_count": 33,
   "id": "379831a1-7a5e-47b7-8ad9-30cc4c9662c6",
   "metadata": {},
   "outputs": [
    {
     "data": {
      "text/plain": [
       "(35.12246920969062, 25.331972720256932, 119.33893408766532, 28.256759227873818)"
      ]
     },
     "execution_count": 33,
     "metadata": {},
     "output_type": "execute_result"
    }
   ],
   "source": [
    "frame_cal(3000,15900,2.1,10)"
   ]
  },
  {
   "cell_type": "code",
   "execution_count": 4,
   "id": "3892b0d8-41ab-4c74-8d71-1ad6dbea1f53",
   "metadata": {},
   "outputs": [],
   "source": [
    "def frame_cal(H:float, L:float, w:float, ang_d:float):\n",
    "    \"\"\"\n",
    "    H, l, w, ang_d\n",
    "    \"\"\"\n",
    "    \n",
    "    frame_model = FEModel3D() # Creates an empty model\n",
    "    H  # mm\n",
    "    L  # mm\n",
    "    w  # N/mm\n",
    "    ang = radians (ang_d) # rad\n",
    "\n",
    "    #Add nodes\n",
    "    frame_model.add_node(\"node1\",0,0,0)\n",
    "    frame_model.add_node(\"node2\",0,H,0)\n",
    "    frame_model.add_node(\"node3\",L/2,H+((L/2)*tan(ang)),0)\n",
    "    frame_model.add_node(\"node4\",L,H,0)\n",
    "    frame_model.add_node(\"node5\",L,0,0)\n",
    "\n",
    "    m = (L/2)**2 + ((L/2)*tan(ang))**2\n",
    "    member_length = sqrt(m)\n",
    "\n",
    "    #Define material\n",
    "    I_1 = 9050000.0 # mm*4\n",
    "    I_2 = 672000.0 # mm*4\n",
    "    J = 60500.0 # mm*4\n",
    "    A = 2300.0 # mm*2\n",
    "    frame_model.add_material(name='Steel', E=200e3, G=80e3, nu=0.25, rho=7.85e-6)\n",
    "    \n",
    "    #Add frame members\n",
    "    frame_model.add_member('M1', 'node1', 'node2', 'Steel', I_2, I_1, J, A)\n",
    "    frame_model.add_member('M2', 'node2', 'node3', 'Steel', I_2, I_1, J, A)\n",
    "    frame_model.add_member('M3', 'node3', 'node4', 'Steel', I_2, I_1, J, A)\n",
    "    frame_model.add_member('M4', 'node4', 'node5', 'Steel', I_2, I_1, J, A)\n",
    "    \n",
    "    #Add load\n",
    "    frame_model.add_load_combo('L',{\"D\":1})\n",
    "    frame_model.add_member_dist_load(\"M1\", \"Fy\", -w, -w, 0, H, case=\"D\")\n",
    "    frame_model.add_member_dist_load(\"M2\", \"Fy\", w, w, 0, member_length, case=\"D\")\n",
    "    frame_model.add_member_dist_load(\"M3\", \"Fy\", w, w, 0, member_length, case=\"D\")\n",
    "    frame_model.add_member_dist_load(\"M4\", \"Fy\", w, w, 0, H, case=\"D\")\n",
    "\n",
    "    #Add boundary condition\n",
    "    frame_model.def_support('node1', True, True, True, True, True, True)\n",
    "    frame_model.def_support('node5', True, True, True, True, True, True)\n",
    "    \n",
    "    #render_model(frame_model, combo_name=\"L\", annotation_size=300)\n",
    "    #Submit for analysis\n",
    "    frame_model.analyze_linear()\n",
    "    \n",
    "    #Node Vertical Displacement\n",
    "    node_v_1 = frame_model.Nodes['node1'].DY\n",
    "    node_v_2 = frame_model.Nodes['node2'].DY\n",
    "    node_v_3 = frame_model.Nodes['node3'].DY\n",
    "    node_v_4 = frame_model.Nodes['node4'].DY\n",
    "    node_v_5 = frame_model.Nodes['node5'].DY\n",
    "    node_displ_v = max(node_v_1['L'], node_v_2['L'], node_v_3['L'], node_v_4['L'], node_v_5['L'])\n",
    "\n",
    "    #Node Horizontal Displacement\n",
    "    node_h_1 = frame_model.Nodes['node1'].DX\n",
    "    node_h_2 = frame_model.Nodes['node2'].DX\n",
    "    node_h_3 = frame_model.Nodes['node3'].DX\n",
    "    node_h_4 = frame_model.Nodes['node4'].DX\n",
    "    node_h_5 = frame_model.Nodes['node5'].DX\n",
    "    node_displ_h = max(node_h_1['L'], node_h_2['L'], node_h_3['L'], node_h_4['L'], node_h_5['L'])\n",
    "    \n",
    "    #Vertical Displacement\n",
    "    #displ_vmax_1 = abs(frame_model.Members['M1'].max_deflection('dy', combo_name=\"L\"))\n",
    "    #displ_vmax_2 = abs(frame_model.Members['M2'].max_deflection('dy', combo_name=\"L\"))\n",
    "    #displ_vmax_3 = abs(frame_model.Members['M3'].max_deflection('dy', combo_name=\"L\"))\n",
    "    #displ_vmax_4 = abs(frame_model.Members['M4'].max_deflection('dy', combo_name=\"L\"))\n",
    "    #displ_vmin_1 = abs(frame_model.Members['M1'].min_deflection('dy', combo_name=\"L\"))\n",
    "    #displ_vmin_2 = abs(frame_model.Members['M2'].min_deflection('dy', combo_name=\"L\"))\n",
    "    #displ_vmin_3 = abs(frame_model.Members['M3'].min_deflection('dy', combo_name=\"L\"))\n",
    "    #displ_vmin_4 = abs(frame_model.Members['M4'].min_deflection('dy', combo_name=\"L\"))\n",
    "    \n",
    "    #displ_v = max(displ_vmax_1, displ_vmax_2, displ_vmax_3, displ_vmax_4, displ_vmin_1, displ_vmin_2, displ_vmin_3, displ_vmin_4)\n",
    "\n",
    "    #Horizontal Displacement\n",
    "    #displ_hmax_1 = abs(frame_model.Members['M1'].max_deflection('dx', combo_name=\"L\"))\n",
    "    #displ_hmax_2 = abs(frame_model.Members['M2'].max_deflection('dx', combo_name=\"L\"))\n",
    "    #displ_hmax_3 = abs(frame_model.Members['M3'].max_deflection('dx', combo_name=\"L\"))\n",
    "    #displ_hmax_4 = abs(frame_model.Members['M4'].max_deflection('dx', combo_name=\"L\"))\n",
    "    #displ_hmin_1 = abs(frame_model.Members['M1'].min_deflection('dx', combo_name=\"L\"))\n",
    "    #displ_hmin_2 = abs(frame_model.Members['M2'].min_deflection('dx', combo_name=\"L\"))\n",
    "    #displ_hmin_3 = abs(frame_model.Members['M3'].min_deflection('dx', combo_name=\"L\"))\n",
    "    #displ_hmin_4 = abs(frame_model.Members['M4'].min_deflection('dx', combo_name=\"L\"))\n",
    "    \n",
    "    #displ_h = max(displ_hmax_1, displ_hmax_2, displ_hmax_3, displ_hmax_4, displ_hmin_1, displ_hmin_2, displ_hmin_3, displ_hmin_4)\n",
    "    \n",
    "\n",
    "\n",
    "    \n",
    "    #frame_model.Members['M1'].plot_deflection(A, combo_name=\"L\", n_points =10000)\n",
    "    #frame_model.Members['M2'].plot_deflection(A, combo_name=\"L\", n_points =10000)\n",
    "    #frame_model.Members['M3'].plot_deflection(A, combo_name=\"L\", n_points =10000)\n",
    "    #frame_model.Members['M4'].plot_deflection(A, combo_name=\"L\", n_points =10000)\n",
    "    \n",
    "    #max momemnt\n",
    "    moment_max_1=abs(frame_model.Members['M1'].max_moment('Mz', combo_name = 'L')/10**6)\n",
    "    moment_max_2=abs(frame_model.Members['M2'].max_moment('Mz', combo_name = 'L')/10**6)\n",
    "    moment_max_3=abs(frame_model.Members['M3'].max_moment('Mz', combo_name = 'L')/10**6)\n",
    "    moment_max_4=abs(frame_model.Members['M4'].max_moment('Mz', combo_name = 'L')/10**6)\n",
    "    #min moment\n",
    "    moment_min_1=abs(frame_model.Members['M1'].min_moment('Mz', combo_name = 'L')/10**6)\n",
    "    moment_min_2=abs(frame_model.Members['M2'].min_moment('Mz', combo_name = 'L')/10**6)\n",
    "    moment_min_3=abs(frame_model.Members['M3'].min_moment('Mz', combo_name = 'L')/10**6)\n",
    "    moment_min_4=abs(frame_model.Members['M4'].min_moment('Mz', combo_name = 'L')/10**6)\n",
    "    moment = max (moment_max_1, moment_max_2, moment_max_3, moment_max_4, moment_min_1, moment_min_2, moment_min_3, moment_min_4)\n",
    "\n",
    "    #max shear\n",
    "    shear_max_1=abs(frame_model.Members['M1'].max_shear('Fy', combo_name = 'L')/10**3)\n",
    "    shear_max_2=abs(frame_model.Members['M2'].max_shear('Fy', combo_name = 'L')/10**3)\n",
    "    shear_max_3=abs(frame_model.Members['M3'].max_shear('Fy', combo_name = 'L')/10**3)\n",
    "    shear_max_4=abs(frame_model.Members['M4'].max_shear('Fy', combo_name = 'L')/10**3)\n",
    "    \n",
    "    #min shear\n",
    "    shear_min_1=abs(frame_model.Members['M1'].min_shear('Fy', combo_name = 'L')/10**3)\n",
    "    shear_min_2=abs(frame_model.Members['M2'].min_shear('Fy', combo_name = 'L')/10**3)\n",
    "    shear_min_3=abs(frame_model.Members['M3'].min_shear('Fy', combo_name = 'L')/10**3)\n",
    "    shear_min_4=abs(frame_model.Members['M4'].min_shear('Fy', combo_name = 'L')/10**3)\n",
    "    shear = max(shear_max_1, shear_max_2, shear_max_3, shear_max_4, shear_min_1, shear_min_2, shear_min_3, shear_min_4)\n",
    "    \n",
    "    return moment, shear, node_displ_v, node_displ_h"
   ]
  },
  {
   "cell_type": "code",
   "execution_count": 97,
   "id": "0ee3a53d-417f-4b36-ab9b-86d04e4ccb8a",
   "metadata": {
    "jupyter": {
     "source_hidden": true
    }
   },
   "outputs": [
    {
     "name": "stdout",
     "output_type": "stream",
     "text": [
      "Moment criteria:  15.884 35.04487935348494\n",
      "D_h criteria:  13.485 20.008565703315142\n",
      "Shear criteria:  53.95 146.8893707730678\n",
      "D_v criteria:  11.5 46.41693491215061\n"
     ]
    }
   ],
   "source": [
    "L = 15000\n",
    "M = 0\n",
    "while M <= 35.03:\n",
    "    M = frame_cal(3000, L, 2.1, 10)[0]\n",
    "    L+=5\n",
    "print ('Moment criteria: ', (L-1)/1000, M)\n",
    "\n",
    "L = 10000\n",
    "D_h = 0\n",
    "while D_h <= 3000/150:\n",
    "    D_h = frame_cal(3000, L, 2.1, 10)[3]\n",
    "    L+=5\n",
    "print ('D_h criteria: ', (L-5)/1000, D_h)\n",
    "\n",
    "L = 50000\n",
    "V = 0\n",
    "while V <= 146.88:\n",
    "    V = frame_cal(3000, L, 2.1, 10)[1]\n",
    "    L+=5\n",
    "print ('Shear criteria: ', (L-50)/1000, V)\n",
    "\n",
    "L = 10000\n",
    "D_v = 0\n",
    "while D_v <= L/250:\n",
    "    D_v = frame_cal(3000, L, 2.1, 10)[2]\n",
    "    L+=5\n",
    "print ('D_v criteria: ', (L-100)/1000, D_v)"
   ]
  },
  {
   "cell_type": "code",
   "execution_count": 1,
   "id": "10372726-bca8-4798-b4c6-9a2a0dfa1693",
   "metadata": {},
   "outputs": [],
   "source": [
    "def Strand7(H:float, ang_d:float, w:float, L:float = 1.0, delat:float= 0.10):\n",
    "    H = H * 1000.0\n",
    "    L= L * 1000.0\n",
    "    M = 0.0\n",
    "    L_M = L\n",
    "    while M <= 35.03:\n",
    "        M = frame_cal(H, L_M, w, ang_d)[0]\n",
    "        L_M+=delat\n",
    "    \n",
    "    L_M = L_M-delat * 2\n",
    "    M = frame_cal(H, L_M, w, ang_d)[0]\n",
    "    print ('Moment criteria: ', L_M/1000, M)\n",
    "\n",
    "\n",
    "    V = 0\n",
    "    L_V = L + 35000\n",
    "    while V <= 146.88:\n",
    "        V = frame_cal(H, L_V, w, ang_d)[1]\n",
    "        L_V+=delat\n",
    "    L_V = L_V-delat * 2\n",
    "    V = frame_cal(H, L_V, w, ang_d)[1]\n",
    "    print ('Shear criteria: ', L_V/1000, V)\n",
    "\n",
    "    \n",
    "    D_h = 0\n",
    "    L_D_h = L\n",
    "    while D_h <= 3000/150:\n",
    "        D_h = frame_cal(H, L_D_h, w, ang_d)[3]\n",
    "        L_D_h+=delat\n",
    "    L_D_h = L_D_h-delat * 2\n",
    "    D_h = frame_cal(H, L_D_h, w, ang_d)[3]\n",
    "    print ('D_h criteria: ', L_D_h/1000, D_h)\n",
    "\n",
    "    \n",
    "    D_v = 0\n",
    "    L_D_v= L\n",
    "    while D_v <= L_D_v/250:\n",
    "        D_v = frame_cal(H, L_D_v, w, ang_d)[2]\n",
    "        L_D_v+=delat\n",
    "    L_D_v = L_D_v-delat * 2\n",
    "    D_v = frame_cal(H, L_D_v, w, ang_d)[2]    \n",
    "    \n",
    "    print ('D_v criteria: ', L_D_v/1000, D_v)\n",
    "\n",
    "\n",
    "    #return L_M, L_V, L_D_h, L_D_v\n",
    "    "
   ]
  },
  {
   "cell_type": "code",
   "execution_count": 4,
   "id": "e92b9520-5f8b-4357-a0e9-2fa4e4c873a9",
   "metadata": {},
   "outputs": [
    {
     "name": "stdout",
     "output_type": "stream",
     "text": [
      "Moment criteria:  15.876 35.02937381024049\n",
      "Shear criteria:  53.992 146.87934643569227\n",
      "D_h criteria:  13.482 19.999644901785715\n",
      "D_v criteria:  11.591 46.367432999708505\n"
     ]
    }
   ],
   "source": [
    "Strand7(3,10,2.1)"
   ]
  },
  {
   "cell_type": "code",
   "execution_count": 5,
   "id": "55789aa8-7e2a-49a5-9cd1-c4592ff62a3d",
   "metadata": {},
   "outputs": [
    {
     "name": "stdout",
     "output_type": "stream",
     "text": [
      "Moment criteria:  16.594 35.029503511209526\n",
      "Shear criteria:  76.289 146.87822092628994\n",
      "D_h criteria:  13.147 19.999745377637716\n",
      "D_v criteria:  13.831 55.324395689935166\n"
     ]
    }
   ],
   "source": [
    "Strand7(3,15,2.1)"
   ]
  },
  {
   "cell_type": "code",
   "execution_count": 6,
   "id": "38891473-c9c2-400f-a4de-c55f3f320078",
   "metadata": {},
   "outputs": [
    {
     "name": "stdout",
     "output_type": "stream",
     "text": [
      "Moment criteria:  16.246 35.0276739021509\n",
      "Shear criteria:  56.521 146.8774107547639\n",
      "D_h criteria:  13.359 19.999203712626713\n",
      "D_v criteria:  11.7 46.80223220371283\n"
     ]
    }
   ],
   "source": [
    "Strand7(3.1,10,2)"
   ]
  },
  {
   "cell_type": "code",
   "execution_count": 7,
   "id": "51d2ee8f-0057-45ec-a9ab-9942c7b0d310",
   "metadata": {},
   "outputs": [
    {
     "name": "stdout",
     "output_type": "stream",
     "text": [
      "Moment criteria:  14.219 35.02662572731261\n",
      "Shear criteria:  68.037 146.87900385308026\n",
      "D_h criteria:  10.761 19.997779419827545\n",
      "D_v criteria:  12.571 50.284302294646864\n"
     ]
    }
   ],
   "source": [
    "Strand7(3.1,17,2.7)"
   ]
  },
  {
   "cell_type": "code",
   "execution_count": 8,
   "id": "1fed7c51-3c7f-4e07-82a4-835b92aee6fe",
   "metadata": {},
   "outputs": [
    {
     "name": "stdout",
     "output_type": "stream",
     "text": [
      "Moment criteria:  15.518 35.02972121873751\n",
      "Shear criteria:  63.785 146.8794419093316\n",
      "D_h criteria:  11.862 19.999211243171754\n",
      "D_v criteria:  11.973 47.89374184923921\n"
     ]
    }
   ],
   "source": [
    "Strand7(3.2,13,2.2)"
   ]
  },
  {
   "cell_type": "code",
   "execution_count": 9,
   "id": "b9aeb4ac-8d29-4d73-967e-88bdab16cf45",
   "metadata": {},
   "outputs": [
    {
     "name": "stdout",
     "output_type": "stream",
     "text": [
      "Moment criteria:  15.242 35.02754223437687\n",
      "Shear criteria:  76.56 146.8786516909227\n",
      "D_h criteria:  11.038 19.998182420806796\n",
      "D_v criteria:  13.165 52.65813542310115\n"
     ]
    }
   ],
   "source": [
    "Strand7(3.2,17,2.4)"
   ]
  },
  {
   "cell_type": "code",
   "execution_count": 30,
   "id": "8ea846e0-3887-4276-8ee4-878c2a59a01a",
   "metadata": {},
   "outputs": [
    {
     "name": "stdout",
     "output_type": "stream",
     "text": [
      "Moment criteria:  13.151800000029656 35.02977369829659\n",
      "Shear criteria:  51.696999999829785 146.8797813842078\n",
      "D_h criteria:  9.582700000016672 19.999758369370287\n",
      "D_v criteria:  10.437900000019782 41.75186943297885\n"
     ]
    }
   ],
   "source": [
    "Strand7(3.3,13,2.8)"
   ]
  },
  {
   "cell_type": "code",
   "execution_count": 31,
   "id": "4f1070e2-63a6-469d-9736-15a1ac964edb",
   "metadata": {},
   "outputs": [
    {
     "name": "stdout",
     "output_type": "stream",
     "text": [
      "Moment criteria:  13.544100000031083 35.029791017933064\n",
      "Shear criteria:  56.56889999975889 146.87992305184704\n",
      "D_h criteria:  9.759900000017316 19.999904895454446\n",
      "D_v criteria:  10.904000000021478 43.61632028688821\n"
     ]
    }
   ],
   "source": [
    "Strand7(3.3,14,2.7)"
   ]
  },
  {
   "cell_type": "code",
   "execution_count": 32,
   "id": "823d809f-0bab-4d65-b532-35ce6299c5a5",
   "metadata": {},
   "outputs": [
    {
     "name": "stdout",
     "output_type": "stream",
     "text": [
      "Moment criteria:  15.643800000038722 35.02990300268495\n",
      "Shear criteria:  73.03400000006486 146.8799659423974\n",
      "D_h criteria:  11.188500000022513 19.999956948568496\n",
      "D_v criteria:  12.535600000027415 50.14251067595231\n"
     ]
    }
   ],
   "source": [
    "Strand7(3.3,15,2.2)"
   ]
  },
  {
   "cell_type": "code",
   "execution_count": 33,
   "id": "e27d7dd1-a453-4a46-b023-3c993fdfa122",
   "metadata": {},
   "outputs": [
    {
     "name": "stdout",
     "output_type": "stream",
     "text": [
      "Moment criteria:  15.51130000003824 35.029778648289806\n",
      "Shear criteria:  79.89610000046429 146.879978576167\n",
      "D_h criteria:  10.772900000021002 19.999873534411854\n",
      "D_v criteria:  13.168000000029714 52.67176126454489\n"
     ]
    }
   ],
   "source": [
    "Strand7(3.3,17,2.3)"
   ]
  },
  {
   "cell_type": "code",
   "execution_count": 34,
   "id": "e0d9d3e5-dd34-4c10-931b-6af15f99df92",
   "metadata": {},
   "outputs": [
    {
     "name": "stdout",
     "output_type": "stream",
     "text": [
      "Moment criteria:  13.943400000032536 35.02982205103758\n",
      "Shear criteria:  48.405899999877676 146.87974628837918\n",
      "D_h criteria:  10.217800000018983 19.999972276259015\n",
      "D_v criteria:  10.186100000018866 40.74406880960783\n"
     ]
    }
   ],
   "source": [
    "Strand7(3.4,10,2.5)"
   ]
  },
  {
   "cell_type": "code",
   "execution_count": 35,
   "id": "a78fd43d-0afb-4212-aed4-4222fbeee6a0",
   "metadata": {},
   "outputs": [
    {
     "name": "stdout",
     "output_type": "stream",
     "text": [
      "Moment criteria:  14.293200000033808 35.02991966296034\n",
      "Shear criteria:  59.55189999971548 146.87987279928117\n",
      "D_h criteria:  9.516200000016429 19.999825601718506\n",
      "D_v criteria:  10.953700000021659 43.81451304859511\n"
     ]
    }
   ],
   "source": [
    "Strand7(3.5,13,2.4)"
   ]
  },
  {
   "cell_type": "code",
   "execution_count": 36,
   "id": "ade3d0aa-4866-4b66-8ed5-0ebee29c33a3",
   "metadata": {},
   "outputs": [
    {
     "name": "stdout",
     "output_type": "stream",
     "text": [
      "Moment criteria:  14.564900000034797 35.02981551392998\n",
      "Shear criteria:  62.031299999679405 146.87991593210504\n",
      "D_h criteria:  9.201000000015283 19.999919827936083\n",
      "D_v criteria:  11.040000000021973 44.16024992029421\n"
     ]
    }
   ],
   "source": [
    "Strand7(3.6,13,2.3)"
   ]
  },
  {
   "cell_type": "code",
   "execution_count": 37,
   "id": "96519792-0d4a-463a-b64a-76354ac4066b",
   "metadata": {},
   "outputs": [
    {
     "name": "stdout",
     "output_type": "stream",
     "text": [
      "Moment criteria:  16.14410000004054 35.029811111216645\n",
      "Shear criteria:  93.56110000125969 146.87996645613936\n",
      "D_h criteria:  9.594500000016716 19.999850859664065\n",
      "D_v criteria:  13.485200000030868 53.9408935589642\n"
     ]
    }
   ],
   "source": [
    "Strand7(3.6,18,2.1)"
   ]
  },
  {
   "cell_type": "code",
   "execution_count": 38,
   "id": "a4fc9bc6-504b-43c5-a34d-70f615260167",
   "metadata": {},
   "outputs": [
    {
     "name": "stdout",
     "output_type": "stream",
     "text": [
      "Moment criteria:  14.196700000033458 35.02968096397311\n",
      "Shear criteria:  78.3210000003726 146.87988856369068\n",
      "D_h criteria:  8.11420000001133 19.999940224908332\n",
      "D_v criteria:  12.14960000002601 48.59817265678714\n"
     ]
    }
   ],
   "source": [
    "Strand7(3.6,18,2.5)"
   ]
  },
  {
   "cell_type": "code",
   "execution_count": 39,
   "id": "c2fcc71a-1805-4b80-a8c3-9bd2d218d91a",
   "metadata": {},
   "outputs": [
    {
     "name": "stdout",
     "output_type": "stream",
     "text": [
      "Moment criteria:  13.711600000031693 35.02965331987161\n",
      "Shear criteria:  65.06019999963533 146.8797872868079\n",
      "D_h criteria:  7.518300000009162 19.99990509102675\n",
      "D_v criteria:  10.960600000021685 43.84204360047632\n"
     ]
    }
   ],
   "source": [
    "Strand7(3.7,15,2.5)"
   ]
  },
  {
   "cell_type": "code",
   "execution_count": 40,
   "id": "23934b47-2886-4894-b984-4d98bba916e2",
   "metadata": {},
   "outputs": [
    {
     "name": "stdout",
     "output_type": "stream",
     "text": [
      "Moment criteria:  13.177200000029748 35.029937074006675\n",
      "Shear criteria:  72.47900000003256 146.87985367683007\n",
      "D_h criteria:  6.576000000005735 19.99988415574483\n",
      "D_v criteria:  11.408300000023313 45.63334053715645\n"
     ]
    }
   ],
   "source": [
    "Strand7(3.7,18,2.7)"
   ]
  },
  {
   "cell_type": "code",
   "execution_count": 41,
   "id": "6a954f52-0292-49cb-8d74-89c5bf0090e9",
   "metadata": {},
   "outputs": [
    {
     "name": "stdout",
     "output_type": "stream",
     "text": [
      "Moment criteria:  14.323300000033917 35.029906749328504\n",
      "Shear criteria:  66.27529999967145 146.87977827067064\n",
      "D_h criteria:  7.567000000009339 19.999852927560696\n",
      "D_v criteria:  11.016700000021888 44.0664257576263\n"
     ]
    }
   ],
   "source": [
    "Strand7(3.8,14,2.3)"
   ]
  },
  {
   "cell_type": "code",
   "execution_count": null,
   "id": "2f8eac46-ff66-48f0-9fea-8acbcac7844e",
   "metadata": {},
   "outputs": [
    {
     "name": "stdout",
     "output_type": "stream",
     "text": [
      "Moment criteria:  11.821700000025318 35.02965941713681\n",
      "Shear criteria:  45.12089999986728 146.87996020010755\n",
      "D_h criteria:  3.673099999997596 19.999875384787444\n"
     ]
    }
   ],
   "source": [
    "Strand7(3.9,10,2.9)"
   ]
  },
  {
   "cell_type": "code",
   "execution_count": null,
   "id": "ccbbc7de-7051-4503-b90e-a245f546d323",
   "metadata": {},
   "outputs": [],
   "source": []
  },
  {
   "cell_type": "code",
   "execution_count": null,
   "id": "71bbbc10-e000-4af3-8256-7187ecffe342",
   "metadata": {},
   "outputs": [],
   "source": []
  }
 ],
 "metadata": {
  "kernelspec": {
   "display_name": "Python 3.10 (pfse)",
   "language": "python",
   "name": "pfse"
  },
  "language_info": {
   "codemirror_mode": {
    "name": "ipython",
    "version": 3
   },
   "file_extension": ".py",
   "mimetype": "text/x-python",
   "name": "python",
   "nbconvert_exporter": "python",
   "pygments_lexer": "ipython3",
   "version": "3.10.12"
  }
 },
 "nbformat": 4,
 "nbformat_minor": 5
}

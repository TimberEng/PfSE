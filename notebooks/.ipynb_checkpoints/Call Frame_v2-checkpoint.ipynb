{
 "cells": [
  {
   "cell_type": "markdown",
   "id": "725054a5-3ab2-459e-aa73-ae5556bc5569",
   "metadata": {},
   "source": [
    "Please install `pip install pfse_starterkit` before running the test"
   ]
  },
  {
   "cell_type": "code",
   "execution_count": 1,
   "id": "58e82d32-e0cf-498e-8ced-ed4158e57d57",
   "metadata": {},
   "outputs": [],
   "source": [
    "from PyNite import FEModel3D"
   ]
  },
  {
   "cell_type": "code",
   "execution_count": 2,
   "id": "e5099015-cbaa-46fc-9525-d8367bdf706b",
   "metadata": {},
   "outputs": [],
   "source": [
    "from PyNite import FEModel3D\n",
    "from PyNite.Visualization import render_model\n",
    "from math import sqrt\n",
    "from math import tan\n",
    "from math import radians"
   ]
  },
  {
   "cell_type": "code",
   "execution_count": 3,
   "id": "3892b0d8-41ab-4c74-8d71-1ad6dbea1f53",
   "metadata": {},
   "outputs": [],
   "source": [
    "def frame_cal(H:float, L:float, w:float, ang_d:float):\n",
    "    \"\"\"\n",
    "    H, l, w, ang_d\n",
    "    \"\"\"\n",
    "    \n",
    "    frame_model = FEModel3D() # Creates an empty model\n",
    "    H  # mm\n",
    "    L  # mm\n",
    "    w  # N/mm\n",
    "    ang = radians (ang_d) # rad\n",
    "\n",
    "    #Add nodes\n",
    "    frame_model.add_node(\"node1\",0,0,0)\n",
    "    frame_model.add_node(\"node2\",0,H,0)\n",
    "    frame_model.add_node(\"node3\",L/2,H+((L/2)*tan(ang)),0)\n",
    "    frame_model.add_node(\"node4\",L,H,0)\n",
    "    frame_model.add_node(\"node5\",L,0,0)\n",
    "\n",
    "    m = (L/2)**2 + ((L/2)*tan(ang))**2\n",
    "    member_length = sqrt(m)\n",
    "\n",
    "    #Define material\n",
    "    I_1 = 9050000.0 # mm*4\n",
    "    I_2 = 672000.0 # mm*4\n",
    "    J = 60500.0 # mm*4\n",
    "    A = 2300.0 # mm*2\n",
    "    E = 200e3\n",
    "    nu = 0.25\n",
    "    rho = 7.85e-6\n",
    "    G = E/(2 * (1+2*nu))\n",
    "    \n",
    "    frame_model.add_material('Steel', E, G, nu, rho)\n",
    "\n",
    "    #Add frame members\n",
    "    frame_model.add_member('M1', 'node1', 'node2', 'Steel', I_2, I_1, J, A)\n",
    "    frame_model.add_member('M2', 'node2', 'node3', 'Steel', I_2, I_1, J, A)\n",
    "    frame_model.add_member('M3', 'node3', 'node4', 'Steel', I_2, I_1, J, A)\n",
    "    frame_model.add_member('M4', 'node4', 'node5', 'Steel', I_2, I_1, J, A)\n",
    "    \n",
    "    #Add load\n",
    "    frame_model.add_load_combo('L',{\"D\":1})\n",
    "    frame_model.add_member_dist_load(\"M1\", \"Fy\", -w, -w, 0, H, case=\"D\")\n",
    "    frame_model.add_member_dist_load(\"M2\", \"Fy\", w, w, 0, member_length, case=\"D\")\n",
    "    frame_model.add_member_dist_load(\"M3\", \"Fy\", w, w, 0, member_length, case=\"D\")\n",
    "    frame_model.add_member_dist_load(\"M4\", \"Fy\", w, w, 0, H, case=\"D\")\n",
    "\n",
    "    #Add boundary condition\n",
    "    frame_model.def_support('node1', True, True, True, True, True, True)\n",
    "    frame_model.def_support('node5', True, True, True, True, True, True)\n",
    "    \n",
    "    #render_model(frame_model, combo_name=\"L\", annotation_size=300)\n",
    "    \n",
    "    #Submit for analysis\n",
    "    frame_model.analyze()\n",
    "\n",
    "    #Node Vertical Displacement\n",
    "    node_v_1 = frame_model.Nodes['node1'].DY\n",
    "    node_v_2 = frame_model.Nodes['node2'].DY\n",
    "    node_v_3 = frame_model.Nodes['node3'].DY\n",
    "    node_v_4 = frame_model.Nodes['node4'].DY\n",
    "    node_v_5 = frame_model.Nodes['node5'].DY\n",
    "    node_displ_v = max(node_v_1['L'], node_v_2['L'], node_v_3['L'], node_v_4['L'], node_v_5['L'])\n",
    "\n",
    "    #Node Horizontal Displacement\n",
    "    node_h_1 = frame_model.Nodes['node1'].DX\n",
    "    node_h_2 = frame_model.Nodes['node2'].DX\n",
    "    node_h_3 = frame_model.Nodes['node3'].DX\n",
    "    node_h_4 = frame_model.Nodes['node4'].DX\n",
    "    node_h_5 = frame_model.Nodes['node5'].DX\n",
    "    node_displ_h = max(node_h_1['L'], node_h_2['L'], node_h_3['L'], node_h_4['L'], node_h_5['L'])\n",
    "    \n",
    "    #Vertical Displacement\n",
    "    #displ_vmax_1 = abs(frame_model.Members['M1'].max_deflection('dy', combo_name=\"L\"))\n",
    "    #displ_vmax_2 = abs(frame_model.Members['M2'].max_deflection('dy', combo_name=\"L\"))\n",
    "    #displ_vmax_3 = abs(frame_model.Members['M3'].max_deflection('dy', combo_name=\"L\"))\n",
    "    #displ_vmax_4 = abs(frame_model.Members['M4'].max_deflection('dy', combo_name=\"L\"))\n",
    "    #displ_vmin_1 = abs(frame_model.Members['M1'].min_deflection('dy', combo_name=\"L\"))\n",
    "    #displ_vmin_2 = abs(frame_model.Members['M2'].min_deflection('dy', combo_name=\"L\"))\n",
    "    #displ_vmin_3 = abs(frame_model.Members['M3'].min_deflection('dy', combo_name=\"L\"))\n",
    "    #displ_vmin_4 = abs(frame_model.Members['M4'].min_deflection('dy', combo_name=\"L\"))\n",
    "    \n",
    "    #displ_v = max(displ_vmax_1, displ_vmax_2, displ_vmax_3, displ_vmax_4, displ_vmin_1, displ_vmin_2, displ_vmin_3, displ_vmin_4)\n",
    "\n",
    "    #Horizontal Displacement\n",
    "    #displ_hmax_1 = abs(frame_model.Members['M1'].max_deflection('dx', combo_name=\"L\"))\n",
    "    #displ_hmax_2 = abs(frame_model.Members['M2'].max_deflection('dx', combo_name=\"L\"))\n",
    "    #displ_hmax_3 = abs(frame_model.Members['M3'].max_deflection('dx', combo_name=\"L\"))\n",
    "    #displ_hmax_4 = abs(frame_model.Members['M4'].max_deflection('dx', combo_name=\"L\"))\n",
    "    #displ_hmin_1 = abs(frame_model.Members['M1'].min_deflection('dx', combo_name=\"L\"))\n",
    "    #displ_hmin_2 = abs(frame_model.Members['M2'].min_deflection('dx', combo_name=\"L\"))\n",
    "    #displ_hmin_3 = abs(frame_model.Members['M3'].min_deflection('dx', combo_name=\"L\"))\n",
    "    #displ_hmin_4 = abs(frame_model.Members['M4'].min_deflection('dx', combo_name=\"L\"))\n",
    "    \n",
    "    #displ_h = max(displ_hmax_1, displ_hmax_2, displ_hmax_3, displ_hmax_4, displ_hmin_1, displ_hmin_2, displ_hmin_3, displ_hmin_4)\n",
    "    \n",
    "\n",
    "\n",
    "    \n",
    "    #frame_model.Members['M1'].plot_deflection(A, combo_name=\"L\", n_points =10000)\n",
    "    #frame_model.Members['M2'].plot_deflection(A, combo_name=\"L\", n_points =10000)\n",
    "    #frame_model.Members['M3'].plot_deflection(A, combo_name=\"L\", n_points =10000)\n",
    "    #frame_model.Members['M4'].plot_deflection(A, combo_name=\"L\", n_points =10000)\n",
    "    \n",
    "    #max momemnt\n",
    "    moment_max_1=abs(frame_model.Members['M1'].max_moment('Mz', combo_name = 'L')/10**6)\n",
    "    moment_max_2=abs(frame_model.Members['M2'].max_moment('Mz', combo_name = 'L')/10**6)\n",
    "    moment_max_3=abs(frame_model.Members['M3'].max_moment('Mz', combo_name = 'L')/10**6)\n",
    "    moment_max_4=abs(frame_model.Members['M4'].max_moment('Mz', combo_name = 'L')/10**6)\n",
    "    #min moment\n",
    "    moment_min_1=abs(frame_model.Members['M1'].min_moment('Mz', combo_name = 'L')/10**6)\n",
    "    moment_min_2=abs(frame_model.Members['M2'].min_moment('Mz', combo_name = 'L')/10**6)\n",
    "    moment_min_3=abs(frame_model.Members['M3'].min_moment('Mz', combo_name = 'L')/10**6)\n",
    "    moment_min_4=abs(frame_model.Members['M4'].min_moment('Mz', combo_name = 'L')/10**6)\n",
    "    moment = max (moment_max_1, moment_max_2, moment_max_3, moment_max_4, moment_min_1, moment_min_2, moment_min_3, moment_min_4)\n",
    "\n",
    "    #max shear\n",
    "    shear_max_1=abs(frame_model.Members['M1'].max_shear('Fy', combo_name = 'L')/10**3)\n",
    "    shear_max_2=abs(frame_model.Members['M2'].max_shear('Fy', combo_name = 'L')/10**3)\n",
    "    shear_max_3=abs(frame_model.Members['M3'].max_shear('Fy', combo_name = 'L')/10**3)\n",
    "    shear_max_4=abs(frame_model.Members['M4'].max_shear('Fy', combo_name = 'L')/10**3)\n",
    "    \n",
    "    #min shear\n",
    "    shear_min_1=abs(frame_model.Members['M1'].min_shear('Fy', combo_name = 'L')/10**3)\n",
    "    shear_min_2=abs(frame_model.Members['M2'].min_shear('Fy', combo_name = 'L')/10**3)\n",
    "    shear_min_3=abs(frame_model.Members['M3'].min_shear('Fy', combo_name = 'L')/10**3)\n",
    "    shear_min_4=abs(frame_model.Members['M4'].min_shear('Fy', combo_name = 'L')/10**3)\n",
    "    shear = max(shear_max_1, shear_max_2, shear_max_3, shear_max_4, shear_min_1, shear_min_2, shear_min_3, shear_min_4)\n",
    "    \n",
    "    return moment, shear, node_displ_v, node_displ_h"
   ]
  },
  {
   "cell_type": "code",
   "execution_count": 4,
   "id": "10372726-bca8-4798-b4c6-9a2a0dfa1693",
   "metadata": {},
   "outputs": [],
   "source": [
    "def Strand7(H:float, ang_d:float, w:float, L:float = 1.0, delat:float= 1):\n",
    "    H = H * 1000.0\n",
    "    L= L * 1000.0\n",
    "    M = 0.0\n",
    "    L_M = L\n",
    "    while M <= 35.03:\n",
    "        M = frame_cal(H, L_M, w, ang_d)[0]\n",
    "        L_M+=delat\n",
    "    \n",
    "    L_M = L_M-delat * 2\n",
    "    M = frame_cal(H, L_M, w, ang_d)[0]\n",
    "    print ('Moment criteria: ', L_M/1000, M)\n",
    "\n",
    "\n",
    "    V = 0\n",
    "    L_V = L + 35000\n",
    "    while V <= 146.88:\n",
    "        V = frame_cal(H, L_V, w, ang_d)[1]\n",
    "        L_V+=delat\n",
    "    L_V = L_V-delat * 2\n",
    "    V = frame_cal(H, L_V, w, ang_d)[1]\n",
    "    print ('Shear criteria: ', L_V/1000, V)\n",
    "\n",
    "    \n",
    "    D_h = 0\n",
    "    L_D_h = L\n",
    "    while D_h <= H/150:\n",
    "        D_h = frame_cal(H, L_D_h, w, ang_d)[3]\n",
    "        L_D_h+=delat\n",
    "    L_D_h = L_D_h-delat * 2\n",
    "    D_h = frame_cal(H, L_D_h, w, ang_d)[3]\n",
    "    print ('D_h criteria: ', L_D_h/1000, D_h)\n",
    "\n",
    "    \n",
    "    D_v = 0\n",
    "    L_D_v= L\n",
    "    while D_v <= L_D_v/250:\n",
    "        D_v = frame_cal(H, L_D_v, w, ang_d)[2]\n",
    "        L_D_v+=delat\n",
    "    L_D_v = L_D_v-delat * 2\n",
    "    D_v = frame_cal(H, L_D_v, w, ang_d)[2]    \n",
    "    \n",
    "    print ('D_v criteria: ', L_D_v/1000, D_v)\n",
    "    \n",
    "    L_old = min (L_M, L_V, L_D_h, L_D_v)\n",
    "\n",
    "    M_old = frame_cal(H, L_old, w, ang_d)[0]\n",
    "    print ('Old Moment Max', M_old)\n",
    "    print('Old L max', L_old )\n",
    "    \n",
    "    L_new = 2 * L_old\n",
    "    M_new = frame_cal(H, L_new, w, ang_d)[0]\n",
    "    print ('New Moment Max', M_new)   \n",
    "    print('New L max', L_new)\n",
    "    #return L_M, L_V, L_D_h, L_D_v\n",
    "    "
   ]
  },
  {
   "cell_type": "code",
   "execution_count": 5,
   "id": "379831a1-7a5e-47b7-8ad9-30cc4c9662c6",
   "metadata": {},
   "outputs": [
    {
     "data": {
      "text/plain": [
       "(26.511009621346876, 20.04170800529503, 73.49066708682021, 19.999644901786358)"
      ]
     },
     "execution_count": 5,
     "metadata": {},
     "output_type": "execute_result"
    }
   ],
   "source": [
    "frame_cal(3000,13482,2.1,10)"
   ]
  },
  {
   "cell_type": "code",
   "execution_count": 6,
   "id": "b4e4b563-ae19-4def-912a-02b3157d7f66",
   "metadata": {},
   "outputs": [
    {
     "name": "stdout",
     "output_type": "stream",
     "text": [
      "Moment criteria:  15.876 35.02937381024126\n",
      "Shear criteria:  53.992 146.87934643568715\n",
      "D_h criteria:  13.482 19.999644901786358\n",
      "D_v criteria:  11.591 46.36743299970852\n",
      "Old Moment Max 20.891300642146078\n",
      "Old L max 11591.0\n",
      "New Moment Max 69.51389985782784\n",
      "New L max 23182.0\n"
     ]
    }
   ],
   "source": [
    "Strand7(3,10,2.1)"
   ]
  },
  {
   "cell_type": "code",
   "execution_count": 8,
   "id": "55789aa8-7e2a-49a5-9cd1-c4592ff62a3d",
   "metadata": {},
   "outputs": [
    {
     "name": "stdout",
     "output_type": "stream",
     "text": [
      "Moment criteria:  16.594 35.02950351121005\n",
      "Shear criteria:  76.289 146.87822092629017\n",
      "D_h criteria:  13.147 19.99974537763685\n",
      "D_v criteria:  13.831 55.32439568993518\n",
      "Old Moment Max 24.548609557882116\n",
      "Old L max 13147.0\n",
      "New Moment Max 70.38470727703377\n",
      "New L max 26294.0\n"
     ]
    }
   ],
   "source": [
    "Strand7(3,15,2.1)"
   ]
  },
  {
   "cell_type": "code",
   "execution_count": 9,
   "id": "38891473-c9c2-400f-a4de-c55f3f320078",
   "metadata": {},
   "outputs": [
    {
     "name": "stdout",
     "output_type": "stream",
     "text": [
      "Moment criteria:  16.246 35.027673902151115\n",
      "Shear criteria:  56.521 146.87741075475947\n",
      "D_h criteria:  13.359 19.999203712627452\n",
      "D_v criteria:  11.7 46.80223220371277\n",
      "Old Moment Max 20.520353866431417\n",
      "Old L max 11700.0\n",
      "New Moment Max 67.76104185470827\n",
      "New L max 23400.0\n"
     ]
    }
   ],
   "source": [
    "Strand7(3.1,10,2)"
   ]
  },
  {
   "cell_type": "code",
   "execution_count": 10,
   "id": "51d2ee8f-0057-45ec-a9ab-9942c7b0d310",
   "metadata": {},
   "outputs": [
    {
     "name": "stdout",
     "output_type": "stream",
     "text": [
      "Moment criteria:  14.219 35.02662572731221\n",
      "Shear criteria:  68.037 146.8790038530801\n",
      "D_h criteria:  10.761 19.99777941983264\n",
      "D_v criteria:  12.571 50.28430229464696\n",
      "Old Moment Max 23.99495105835275\n",
      "Old L max 10761.0\n",
      "New Moment Max 63.842394080190026\n",
      "New L max 21522.0\n"
     ]
    }
   ],
   "source": [
    "Strand7(3.1,17,2.7)"
   ]
  },
  {
   "cell_type": "code",
   "execution_count": 11,
   "id": "1fed7c51-3c7f-4e07-82a4-835b92aee6fe",
   "metadata": {},
   "outputs": [
    {
     "name": "stdout",
     "output_type": "stream",
     "text": [
      "Moment criteria:  15.518 35.02972121873805\n",
      "Shear criteria:  63.785 146.87944190933274\n",
      "D_h criteria:  11.862 19.999211243170375\n",
      "D_v criteria:  11.973 47.893741849239326\n",
      "Old Moment Max 23.30837054425628\n",
      "Old L max 11862.0\n",
      "New Moment Max 70.43702000897774\n",
      "New L max 23724.0\n"
     ]
    }
   ],
   "source": [
    "Strand7(3.2,13,2.2)"
   ]
  },
  {
   "cell_type": "code",
   "execution_count": 12,
   "id": "b9aeb4ac-8d29-4d73-967e-88bdab16cf45",
   "metadata": {},
   "outputs": [
    {
     "name": "stdout",
     "output_type": "stream",
     "text": [
      "Moment criteria:  15.242 35.02754223437663\n",
      "Shear criteria:  76.56 146.87865169092248\n",
      "D_h criteria:  11.038 19.99818242080917\n",
      "D_v criteria:  13.165 52.658135423101314\n",
      "Old Moment Max 22.549448397089243\n",
      "Old L max 11038.0\n",
      "New Moment Max 59.939177462763325\n",
      "New L max 22076.0\n"
     ]
    }
   ],
   "source": [
    "Strand7(3.2,17,2.4)"
   ]
  },
  {
   "cell_type": "code",
   "execution_count": 13,
   "id": "8ea846e0-3887-4276-8ee4-878c2a59a01a",
   "metadata": {},
   "outputs": [
    {
     "name": "stdout",
     "output_type": "stream",
     "text": [
      "Moment criteria:  13.151 35.02663359908375\n",
      "Shear criteria:  51.697 146.87978138477305\n",
      "D_h criteria:  9.582 19.997865963036567\n",
      "D_v criteria:  10.438 41.75308338610338\n",
      "Old Moment Max 23.04198736356318\n",
      "Old L max 9582.0\n",
      "New Moment Max 63.677395655974856\n",
      "New L max 19164.0\n"
     ]
    }
   ],
   "source": [
    "Strand7(3.3,13,2.8)"
   ]
  },
  {
   "cell_type": "code",
   "execution_count": 14,
   "id": "4f1070e2-63a6-469d-9736-15a1ac964edb",
   "metadata": {},
   "outputs": [
    {
     "name": "stdout",
     "output_type": "stream",
     "text": [
      "Moment criteria:  13.544 35.02941079432201\n",
      "Shear criteria:  56.568 146.87733089419152\n",
      "D_h criteria:  9.759 19.997458019847446\n",
      "D_v criteria:  10.904 43.616320286634526\n",
      "Old Moment Max 22.668262001996965\n",
      "Old L max 9759.0\n",
      "New Moment Max 61.9579084541146\n",
      "New L max 19518.0\n"
     ]
    }
   ],
   "source": [
    "Strand7(3.3,14,2.7)"
   ]
  },
  {
   "cell_type": "code",
   "execution_count": 15,
   "id": "823d809f-0bab-4d65-b532-35ce6299c5a5",
   "metadata": {},
   "outputs": [
    {
     "name": "stdout",
     "output_type": "stream",
     "text": [
      "Moment criteria:  15.643 35.027184381514125\n",
      "Shear criteria:  73.034 146.8799659422636\n",
      "D_h criteria:  11.188 19.998597529344234\n",
      "D_v criteria:  12.536 50.14698097008716\n",
      "Old Moment Max 21.77761939116415\n",
      "Old L max 11188.0\n",
      "New Moment Max 60.964565719338516\n",
      "New L max 22376.0\n"
     ]
    }
   ],
   "source": [
    "Strand7(3.3,15,2.2)"
   ]
  },
  {
   "cell_type": "code",
   "execution_count": 16,
   "id": "e27d7dd1-a453-4a46-b023-3c993fdfa122",
   "metadata": {},
   "outputs": [
    {
     "name": "stdout",
     "output_type": "stream",
     "text": [
      "Moment criteria:  15.511 35.02880510959482\n",
      "Shear criteria:  79.896 146.8797963829208\n",
      "D_h criteria:  10.772 19.99748005283618\n",
      "D_v criteria:  13.168 52.67176126423224\n",
      "Old Moment Max 21.468269859504005\n",
      "Old L max 10772.0\n",
      "New Moment Max 56.46903211683973\n",
      "New L max 21544.0\n"
     ]
    }
   ],
   "source": [
    "Strand7(3.3,17,2.3)"
   ]
  },
  {
   "cell_type": "code",
   "execution_count": 17,
   "id": "e0d9d3e5-dd34-4c10-931b-6af15f99df92",
   "metadata": {},
   "outputs": [
    {
     "name": "stdout",
     "output_type": "stream",
     "text": [
      "Moment criteria:  13.943 35.02825128852371\n",
      "Shear criteria:  48.405 146.87610985945904\n",
      "D_h criteria:  10.217 19.99790658721682\n",
      "D_v criteria:  10.186 40.74278384103436\n",
      "Old Moment Max 22.614686592171754\n",
      "Old L max 10186.0\n",
      "New Moment Max 66.91941006658611\n",
      "New L max 20372.0\n"
     ]
    }
   ],
   "source": [
    "Strand7(3.4,10,2.5)"
   ]
  },
  {
   "cell_type": "code",
   "execution_count": 18,
   "id": "a78fd43d-0afb-4212-aed4-4222fbeee6a0",
   "metadata": {},
   "outputs": [
    {
     "name": "stdout",
     "output_type": "stream",
     "text": [
      "Moment criteria:  14.293 35.02918763825212\n",
      "Shear criteria:  59.551 146.87734301346717\n",
      "D_h criteria:  9.516 19.999326715996062\n",
      "D_v criteria:  10.954 43.81816256035965\n",
      "Old Moment Max 20.64637748352031\n",
      "Old L max 9516.0\n",
      "New Moment Max 55.09733915515125\n",
      "New L max 19032.0\n"
     ]
    }
   ],
   "source": [
    "Strand7(3.5,13,2.4)"
   ]
  },
  {
   "cell_type": "code",
   "execution_count": 19,
   "id": "ade3d0aa-4866-4b66-8ed5-0ebee29c33a3",
   "metadata": {},
   "outputs": [
    {
     "name": "stdout",
     "output_type": "stream",
     "text": [
      "Moment criteria:  14.564 35.02659872353479\n",
      "Shear criteria:  62.031 146.87910916904093\n",
      "D_h criteria:  9.201 19.999919827898967\n",
      "D_v criteria:  11.04 44.16024992002614\n",
      "Old Moment Max 19.624364252364185\n",
      "Old L max 9201.0\n",
      "New Moment Max 50.496305772842504\n",
      "New L max 18402.0\n"
     ]
    }
   ],
   "source": [
    "Strand7(3.6,13,2.3)"
   ]
  },
  {
   "cell_type": "code",
   "execution_count": 20,
   "id": "96519792-0d4a-463a-b64a-76354ac4066b",
   "metadata": {},
   "outputs": [
    {
     "name": "stdout",
     "output_type": "stream",
     "text": [
      "Moment criteria:  16.144 35.02951101528604\n",
      "Shear criteria:  93.561 146.87981361949437\n",
      "D_h criteria:  9.594 19.998649391395887\n",
      "D_v criteria:  13.485 53.93879499346957\n",
      "Old Moment Max 18.5332843617675\n",
      "Old L max 9594.0\n",
      "New Moment Max 44.637454181933585\n",
      "New L max 19188.0\n"
     ]
    }
   ],
   "source": [
    "Strand7(3.6,18,2.1)"
   ]
  },
  {
   "cell_type": "code",
   "execution_count": 21,
   "id": "a4fc9bc6-504b-43c5-a34d-70f615260167",
   "metadata": {},
   "outputs": [
    {
     "name": "stdout",
     "output_type": "stream",
     "text": [
      "Moment criteria:  14.196 35.027392520720554\n",
      "Shear criteria:  78.321 146.87988856299978\n",
      "D_h criteria:  8.114 19.999482021635785\n",
      "D_v criteria:  12.15 48.602522620559526\n",
      "Old Moment Max 18.900785270224997\n",
      "Old L max 8114.0\n",
      "New Moment Max 42.002382611685334\n",
      "New L max 16228.0\n"
     ]
    }
   ],
   "source": [
    "Strand7(3.6,18,2.5)"
   ]
  },
  {
   "cell_type": "code",
   "execution_count": 22,
   "id": "c2fcc71a-1805-4b80-a8c3-9bd2d218d91a",
   "metadata": {},
   "outputs": [
    {
     "name": "stdout",
     "output_type": "stream",
     "text": [
      "Moment criteria:  13.711 35.02755908821275\n",
      "Shear criteria:  65.06 146.87930062284295\n",
      "D_h criteria:  7.518 19.99928126311639\n",
      "D_v criteria:  10.961 43.84680215601905\n",
      "Old Moment Max 18.42707461368931\n",
      "Old L max 7518.0\n",
      "New Moment Max 39.862578090455486\n",
      "New L max 15036.0\n"
     ]
    }
   ],
   "source": [
    "Strand7(3.7,15,2.5)"
   ]
  },
  {
   "cell_type": "code",
   "execution_count": 23,
   "id": "23934b47-2886-4894-b984-4d98bba916e2",
   "metadata": {},
   "outputs": [
    {
     "name": "stdout",
     "output_type": "stream",
     "text": [
      "Moment criteria:  13.177 35.02926731462588\n",
      "Shear criteria:  72.479 146.8798536767644\n",
      "D_h criteria:  6.576 19.9998841557327\n",
      "D_v criteria:  11.408 45.62998806077748\n",
      "Old Moment Max 18.15297267657492\n",
      "Old L max 6576.0\n",
      "New Moment Max 34.945613721639155\n",
      "New L max 13152.0\n"
     ]
    }
   ],
   "source": [
    "Strand7(3.7,18,2.7)"
   ]
  },
  {
   "cell_type": "code",
   "execution_count": 24,
   "id": "6a954f52-0292-49cb-8d74-89c5bf0090e9",
   "metadata": {},
   "outputs": [
    {
     "name": "stdout",
     "output_type": "stream",
     "text": [
      "Moment criteria:  14.323 35.028876626387394\n",
      "Shear criteria:  66.275 146.87904400400888\n",
      "D_h criteria:  7.567 19.999852927539976\n",
      "D_v criteria:  11.017 44.07006853462166\n",
      "Old Moment Max 17.611524475968565\n",
      "Old L max 7567.0\n",
      "New Moment Max 37.892058010750844\n",
      "New L max 15134.0\n"
     ]
    }
   ],
   "source": [
    "Strand7(3.8,14,2.3)"
   ]
  },
  {
   "cell_type": "code",
   "execution_count": 25,
   "id": "2f8eac46-ff66-48f0-9fea-8acbcac7844e",
   "metadata": {},
   "outputs": [
    {
     "name": "stdout",
     "output_type": "stream",
     "text": [
      "Moment criteria:  11.821 35.02711719574756\n",
      "Shear criteria:  45.12 146.87579105996153\n",
      "D_h criteria:  3.673 19.999750346662058\n",
      "D_v criteria:  9.122 36.488165309971436\n",
      "Old Moment Max 16.8650775486788\n",
      "Old L max 3673.0\n",
      "New Moment Max 22.382575346857553\n",
      "New L max 7346.0\n"
     ]
    }
   ],
   "source": [
    "Strand7(3.9,10,2.9)"
   ]
  },
  {
   "cell_type": "code",
   "execution_count": 7,
   "id": "ccbbc7de-7051-4503-b90e-a245f546d323",
   "metadata": {},
   "outputs": [
    {
     "name": "stdout",
     "output_type": "stream",
     "text": [
      "Moment criteria:  15.508 35.026994370296016\n",
      "Shear criteria:  66.597 146.8775022639342\n",
      "D_h criteria:  8.331 19.999395222096993\n",
      "D_v criteria:  11.16 44.636888226562206\n",
      "Old Moment Max 17.001577156733752\n",
      "Old L max 8331.0\n",
      "New Moment Max 39.080798274453606\n",
      "New L max 16662.0\n"
     ]
    }
   ],
   "source": [
    "Strand7(3.9,12,2)"
   ]
  },
  {
   "cell_type": "code",
   "execution_count": null,
   "id": "71bbbc10-e000-4af3-8256-7187ecffe342",
   "metadata": {},
   "outputs": [],
   "source": []
  }
 ],
 "metadata": {
  "kernelspec": {
   "display_name": "pfse",
   "language": "python",
   "name": "pfse"
  },
  "language_info": {
   "codemirror_mode": {
    "name": "ipython",
    "version": 3
   },
   "file_extension": ".py",
   "mimetype": "text/x-python",
   "name": "python",
   "nbconvert_exporter": "python",
   "pygments_lexer": "ipython3",
   "version": "3.9.18"
  }
 },
 "nbformat": 4,
 "nbformat_minor": 5
}

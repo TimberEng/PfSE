{
 "cells": [
  {
   "cell_type": "markdown",
   "id": "b00fb496-6746-4d72-beb4-90763444887c",
   "metadata": {},
   "source": [
    "# Concrete Flexural Capacity - For a given As"
   ]
  },
  {
   "cell_type": "code",
   "execution_count": 1,
   "id": "60ad3279-17d4-4773-bbd3-01073f227ded",
   "metadata": {},
   "outputs": [],
   "source": [
    "from math import pi, sqrt"
   ]
  },
  {
   "cell_type": "code",
   "execution_count": 10,
   "id": "1bf61c1c-48e4-42ab-8872-cf1ee0ebf1a0",
   "metadata": {},
   "outputs": [],
   "source": [
    "# Inputs \n",
    "d = 700 - 35 # mm\n",
    "b_w = 300 # mm\n",
    "f_c = 25 # MPa\n",
    "f_y = 400 #MPa\n",
    "A_s = 3 * (pi * 30**2 / 4) #3-30M bars\n",
    "\n",
    "phi_s = 0.85\n",
    "phi_c = 0.65"
   ]
  },
  {
   "cell_type": "markdown",
   "id": "357e710a-0616-41db-83b5-bc5dc0174b37",
   "metadata": {},
   "source": [
    "## Parameters"
   ]
  },
  {
   "cell_type": "code",
   "execution_count": 11,
   "id": "898850a9-258e-4646-8837-fc4417151712",
   "metadata": {},
   "outputs": [],
   "source": [
    "alpha_1 = 0.85 - 0.0015 * f_c\n",
    "beta_1 = 0.97 - 0.0025* f_c"
   ]
  },
  {
   "cell_type": "code",
   "execution_count": 12,
   "id": "f413a435-18e4-4bee-8740-ae707302b84e",
   "metadata": {},
   "outputs": [
    {
     "name": "stdout",
     "output_type": "stream",
     "text": [
      "alpha_1 = 0.8125\n",
      "beta_1 = 0.9075\n"
     ]
    }
   ],
   "source": [
    "print('alpha_1 =', alpha_1)\n",
    "print('beta_1 =', beta_1)"
   ]
  },
  {
   "cell_type": "markdown",
   "id": "0e1ff98c-7462-41c5-8578-b8178b7d1276",
   "metadata": {},
   "source": [
    "## Moment Capacity"
   ]
  },
  {
   "cell_type": "code",
   "execution_count": 13,
   "id": "8efdd287-9c70-407e-9fb6-b41e5d187047",
   "metadata": {},
   "outputs": [],
   "source": [
    "T_r = phi_s * f_y * A_s\n",
    "a = T_r / (alpha_1 * phi_c * f_c * b_w)\n",
    "M_r = T_r * (0.9 *d - a / 2)"
   ]
  },
  {
   "cell_type": "code",
   "execution_count": 14,
   "id": "33763f11-cd5a-464d-8d87-736a95daec69",
   "metadata": {},
   "outputs": [
    {
     "data": {
      "text/plain": [
       "365.89567706674916"
      ]
     },
     "execution_count": 14,
     "metadata": {},
     "output_type": "execute_result"
    }
   ],
   "source": [
    "M_r / 1e6"
   ]
  },
  {
   "cell_type": "markdown",
   "id": "bcfa38eb-5ca0-459b-9db3-3486461c3673",
   "metadata": {},
   "source": [
    "## Compare to Mcr"
   ]
  },
  {
   "cell_type": "markdown",
   "id": "917ff17a-8638-4dc2-a8ea-f1793ba29983",
   "metadata": {},
   "source": [
    "### CI. 8.6.4"
   ]
  },
  {
   "cell_type": "code",
   "execution_count": 17,
   "id": "401ab66a-8dd6-4f05-8f21-95480632dd6a",
   "metadata": {},
   "outputs": [],
   "source": [
    "f_r = 0.6 * 1 * sqrt (f_c)\n",
    "I_x = (b_w * d **3) / 12\n",
    "M_cr = (f_r * I_x) / d\n",
    "M_cr_f = 1.2 * M_cr"
   ]
  },
  {
   "cell_type": "code",
   "execution_count": 19,
   "id": "4ffa65bc-776a-49ef-940b-63b95adf378e",
   "metadata": {},
   "outputs": [
    {
     "data": {
      "text/plain": [
       "39.80025"
      ]
     },
     "execution_count": 19,
     "metadata": {},
     "output_type": "execute_result"
    }
   ],
   "source": [
    "M_cr_f / 1e6"
   ]
  },
  {
   "cell_type": "markdown",
   "id": "ab63cb92-bb9a-48ed-ad24-5bbda5184086",
   "metadata": {},
   "source": [
    "# Compare to 0.75Pb"
   ]
  },
  {
   "cell_type": "code",
   "execution_count": 21,
   "id": "82698726-f42a-41a1-ba4d-792b568723e8",
   "metadata": {},
   "outputs": [],
   "source": [
    "c_ratio = 0.0035 / (0.0035 + 0.002)\n",
    "a_ratio = beta_1 * c_ratio\n",
    "rho_b = (alpha_1*phi_c*f_c*a_ratio)/(phi_s*f_y)\n",
    "\n",
    "rho_b_f = 0.75 * rho_b\n",
    "rho = (A_s) / (b_w * d)"
   ]
  },
  {
   "cell_type": "code",
   "execution_count": 22,
   "id": "4a8e53b2-cb85-4a22-95d4-dc1a06279519",
   "metadata": {},
   "outputs": [
    {
     "name": "stdout",
     "output_type": "stream",
     "text": [
      "rho = 0.010629448827935392\n",
      "rho_b_f = 0.01681942210477942\n",
      "rho / rho_b_f = 0.631974675569556\n"
     ]
    }
   ],
   "source": [
    "print(\"rho =\",rho)\n",
    "print(\"rho_b_f =\",rho_b_f)\n",
    "print(\"rho / rho_b_f =\",rho/rho_b_f)"
   ]
  }
 ],
 "metadata": {
  "kernelspec": {
   "display_name": "Python 3.10 (pfse)",
   "language": "python",
   "name": "pfse"
  },
  "language_info": {
   "codemirror_mode": {
    "name": "ipython",
    "version": 3
   },
   "file_extension": ".py",
   "mimetype": "text/x-python",
   "name": "python",
   "nbconvert_exporter": "python",
   "pygments_lexer": "ipython3",
   "version": "3.10.12"
  }
 },
 "nbformat": 4,
 "nbformat_minor": 5
}

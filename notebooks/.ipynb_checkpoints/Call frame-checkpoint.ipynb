{
 "cells": [
  {
   "cell_type": "code",
   "execution_count": 26,
   "id": "85b8901a-7f51-4c86-af35-af57ccd10a18",
   "metadata": {},
   "outputs": [
    {
     "data": {
      "text/plain": [
       "-6.4053311966462765"
      ]
     },
     "execution_count": 26,
     "metadata": {},
     "output_type": "execute_result"
    }
   ],
   "source": [
    "from PyNite import FEModel3D\n",
    "from PyNite.Visualization import render_model\n",
    "from math import sqrt\n",
    "from math import tan"
   ]
  },
  {
   "cell_type": "code",
   "execution_count": 49,
   "id": "a70a9b20-3597-411f-871f-35e462af0eba",
   "metadata": {},
   "outputs": [],
   "source": [
    "def frame_displ_y(H, L, w, ang):\n",
    "    \"\"\"\n",
    "    H, l, w, ang\n",
    "    \"\"\"\n",
    "    \n",
    "    frame_model = FEModel3D() # Creates an empty model\n",
    "    H  # mm\n",
    "    L  # mm\n",
    "    w  # N/mm\n",
    "    ang # rad\n",
    "\n",
    "    frame_model.add_node(\"node1\",0,0,0)\n",
    "    frame_model.add_node(\"node2\",0,H,0)\n",
    "    frame_model.add_node(\"node3\",L/2,H+(L/2)*tan(ang),0)\n",
    "    frame_model.add_node(\"node4\",L,H,0)\n",
    "    frame_model.add_node(\"node5\",L,0,0)\n",
    "\n",
    "    m = (L/2)**2 + 500**2\n",
    "    member_length = sqrt(m)\n",
    "\n",
    "    frame_model.add_material(name='Steel', E=200e3, G=77e3, nu=0.3, rho=7.7e-6)\n",
    "    frame_model.add_member('M1', 'node1', 'node2', 'Steel', 100e6, 800e6, 100e3, 2000)\n",
    "    frame_model.add_member('M2', 'node2', 'node3', 'Steel', 100e6, 800e6, 100e3, 2000)\n",
    "    frame_model.add_member('M3', 'node3', 'node4', 'Steel', 100e6, 800e6, 100e3, 2000)\n",
    "    frame_model.add_member('M4', 'node4', 'node5', 'Steel', 100e6, 800e6, 100e3, 2000)\n",
    "\n",
    "    frame_model.add_load_combo('L',{\"D\":1})\n",
    "    frame_model.add_member_dist_load(\"M1\", \"Fy\", -w, -w, 0, H, case=\"D\")\n",
    "    frame_model.add_member_dist_load(\"M4\", \"Fy\", w, w, 0, H, case=\"D\")\n",
    "    frame_model.add_member_dist_load(\"M2\", \"Fy\", -w, -w, 0, member_length, case=\"D\")\n",
    "    frame_model.add_member_dist_load(\"M3\", \"Fy\", -w, -w, 0, member_length, case=\"D\")\n",
    "\n",
    "    frame_model.def_support('node1', True, True, True, True, True, True)\n",
    "    frame_model.def_support('node5', True, True, True, True, True, True)\n",
    "    #render_model(frame_model, combo_name=\"L\", annotation_size=300)\n",
    "    frame_model.analyze()\n",
    "    #frame_model.Members['M1'].plot_deflection('dy', combo_name=\"L\",n_points=1000)\n",
    "    displ_1 = frame_model.Members['M1'].min_deflection('dy', combo_name=\"L\")\n",
    "    displ_2 = frame_model.Members['M2'].min_deflection('dy', combo_name=\"L\")\n",
    "    displ_3 = frame_model.Members['M3'].min_deflection('dy', combo_name=\"L\")\n",
    "    displ_4 = frame_model.Members['M4'].min_deflection('dy', combo_name=\"L\")\n",
    "    displ = min(displ_1,displ_2, displ_3, displ_4)\n",
    "    return abs(displ)"
   ]
  },
  {
   "cell_type": "code",
   "execution_count": 50,
   "id": "6fa281d3-d5d6-41a8-b4a2-4e78e9ff98ab",
   "metadata": {},
   "outputs": [
    {
     "data": {
      "text/plain": [
       "0.3003017690204799"
      ]
     },
     "execution_count": 50,
     "metadata": {},
     "output_type": "execute_result"
    }
   ],
   "source": [
    "frame_displ_y(1000, 1919, 120, 15)"
   ]
  },
  {
   "cell_type": "code",
   "execution_count": 51,
   "id": "e1a5782e-903b-4936-9b07-31caad4543c9",
   "metadata": {},
   "outputs": [
    {
     "name": "stdout",
     "output_type": "stream",
     "text": [
      "0.19790364741429373\n",
      "0.1980157760472308\n",
      "0.19812786019739864\n",
      "0.19823989986057347\n",
      "0.19835189503243678\n",
      "0.1984638457085782\n",
      "0.19857575188448642\n",
      "0.19868761355556347\n",
      "0.1987994307171124\n",
      "0.19891120336434412\n",
      "0.19902293149237615\n",
      "0.1991346150962363\n",
      "0.19924625417085579\n",
      "0.19935784871107512\n",
      "0.19946939871164507\n",
      "0.1995809041672214\n",
      "0.19969236507237126\n",
      "0.1998037814215704\n",
      "0.19991515320920444\n",
      "0.20002648042956814\n"
     ]
    }
   ],
   "source": [
    "for L in range (1000, 1020):\n",
    "    ddd = frame_displ_y(1000, L, 120, 15)\n",
    "    print (ddd)"
   ]
  },
  {
   "cell_type": "code",
   "execution_count": 54,
   "id": "836a94cb-9d42-46d7-831d-49c0295a256b",
   "metadata": {},
   "outputs": [
    {
     "name": "stdout",
     "output_type": "stream",
     "text": [
      "3106 0.8003411134932514\n"
     ]
    }
   ],
   "source": [
    "L = 1000\n",
    "ddd = 0\n",
    "while ddd <=0.8:\n",
    "    ddd = frame_displ_y(1000, L, 120, 15)\n",
    "    L+=1\n",
    "print (L, ddd)\n",
    "    "
   ]
  },
  {
   "cell_type": "code",
   "execution_count": null,
   "id": "019695d2-2921-466c-adf1-dcdeaf0af56f",
   "metadata": {},
   "outputs": [],
   "source": []
  }
 ],
 "metadata": {
  "kernelspec": {
   "display_name": "Python 3.10 (pfse)",
   "language": "python",
   "name": "pfse"
  },
  "language_info": {
   "codemirror_mode": {
    "name": "ipython",
    "version": 3
   },
   "file_extension": ".py",
   "mimetype": "text/x-python",
   "name": "python",
   "nbconvert_exporter": "python",
   "pygments_lexer": "ipython3",
   "version": "3.10.12"
  }
 },
 "nbformat": 4,
 "nbformat_minor": 5
}

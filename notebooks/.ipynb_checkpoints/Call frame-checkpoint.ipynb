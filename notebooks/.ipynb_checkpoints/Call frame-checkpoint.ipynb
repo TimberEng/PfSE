{
 "cells": [
  {
   "cell_type": "code",
   "execution_count": 2,
   "id": "85b8901a-7f51-4c86-af35-af57ccd10a18",
   "metadata": {},
   "outputs": [],
   "source": [
    "from PyNite import FEModel3D\n",
    "from PyNite.Visualization import render_model\n",
    "from math import sqrt\n",
    "from math import tan\n",
    "from math import radians"
   ]
  },
  {
   "cell_type": "code",
   "execution_count": 39,
   "id": "a70a9b20-3597-411f-871f-35e462af0eba",
   "metadata": {},
   "outputs": [],
   "source": [
    "def frame_cal(H, L, w, ang_d):\n",
    "    \"\"\"\n",
    "    H, l, w, ang_d\n",
    "    \"\"\"\n",
    "    \n",
    "    frame_model = FEModel3D() # Creates an empty model\n",
    "    H  # mm\n",
    "    L  # mm\n",
    "    w  # N/mm\n",
    "    ang = radians (ang_d) # rad\n",
    "\n",
    "    #Add nodes\n",
    "    frame_model.add_node(\"node1\",0,0,0)\n",
    "    frame_model.add_node(\"node2\",0,H,0)\n",
    "    frame_model.add_node(\"node3\",L/2,H+((L/2)*tan(ang)),0)\n",
    "    frame_model.add_node(\"node4\",L,H,0)\n",
    "    frame_model.add_node(\"node5\",L,0,0)\n",
    "\n",
    "    m = (L/2)**2 + 500**2\n",
    "    member_length = sqrt(m)\n",
    "\n",
    "    #Define material\n",
    "    I_1 = 9050000.0 # mm*4\n",
    "    I_2 = 672000.0 # mm*4\n",
    "    J = 60500.0 # mm*4\n",
    "    A = 2300 # mm*2\n",
    "    frame_model.add_material(name='Steel', E=200e3, G=77e3, nu=0.3, rho=7.7e-6)\n",
    "    \n",
    "    #Add frame members\n",
    "    frame_model.add_member('M1', 'node1', 'node2', 'Steel', I_1, I_2, J, A)\n",
    "    frame_model.add_member('M2', 'node2', 'node3', 'Steel', I_1, I_2, J, A)\n",
    "    frame_model.add_member('M3', 'node3', 'node4', 'Steel', I_1, I_2, J, A)\n",
    "    frame_model.add_member('M4', 'node4', 'node5', 'Steel', I_1, I_2, J, A)\n",
    "    \n",
    "    #Add load\n",
    "    frame_model.add_load_combo('L',{\"D\":1})\n",
    "    frame_model.add_member_dist_load(\"M1\", \"Fy\", -w, -w, 0, H, case=\"D\")\n",
    "    frame_model.add_member_dist_load(\"M4\", \"Fy\", w, w, 0, H, case=\"D\")\n",
    "    frame_model.add_member_dist_load(\"M2\", \"Fy\", -w, -w, 0, member_length, case=\"D\")\n",
    "    frame_model.add_member_dist_load(\"M3\", \"Fy\", -w, -w, 0, member_length, case=\"D\")\n",
    "\n",
    "    #Add boundary condition\n",
    "    frame_model.def_support('node1', True, True, True, True, True, True)\n",
    "    frame_model.def_support('node5', True, True, True, True, True, True)\n",
    "    \n",
    "    #render_model(frame_model, combo_name=\"L\", annotation_size=300)\n",
    "    #Submit for analysis\n",
    "    frame_model.analyze()\n",
    "\n",
    "    #Displacement (not finished)\n",
    "    displ_y_1 = frame_model.Members['M1'].min_deflection('dy', combo_name=\"L\")\n",
    "    displ_y_2 = frame_model.Members['M2'].min_deflection('dy', combo_name=\"L\")\n",
    "    displ_y_3 = frame_model.Members['M3'].min_deflection('dy', combo_name=\"L\")\n",
    "    displ_y_4 = frame_model.Members['M4'].min_deflection('dy', combo_name=\"L\")\n",
    "    displ = min(displ_y_1,displ_y_2, displ_y_3, displ_y_4)\n",
    "\n",
    "    #max momemnt\n",
    "    moment_max_1=abs(frame_model.Members['M1'].max_moment('Mz', combo_name = 'L')/10**6)\n",
    "    moment_max_2=abs(frame_model.Members['M2'].max_moment('Mz', combo_name = 'L')/10**6)\n",
    "    moment_max_3=abs(frame_model.Members['M3'].max_moment('Mz', combo_name = 'L')/10**6)\n",
    "    moment_max_4=abs(frame_model.Members['M4'].max_moment('Mz', combo_name = 'L')/10**6)\n",
    "    #min moment\n",
    "    moment_min_1=abs(frame_model.Members['M1'].min_moment('Mz', combo_name = 'L')/10**6)\n",
    "    moment_min_2=abs(frame_model.Members['M2'].min_moment('Mz', combo_name = 'L')/10**6)\n",
    "    moment_min_3=abs(frame_model.Members['M3'].min_moment('Mz', combo_name = 'L')/10**6)\n",
    "    moment_min_4=abs(frame_model.Members['M4'].min_moment('Mz', combo_name = 'L')/10**6)\n",
    "    moment = max (moment_max_1, moment_max_2, moment_max_3, moment_max_4, moment_min_1, moment_min_2, moment_min_3, moment_min_4)\n",
    "\n",
    "    #max shear\n",
    "    shear_max_1=abs(frame_model.Members['M1'].max_shear('Fy', combo_name = 'L')/10**3)\n",
    "    shear_max_2=abs(frame_model.Members['M2'].max_shear('Fy', combo_name = 'L')/10**3)\n",
    "    shear_max_3=abs(frame_model.Members['M3'].max_shear('Fy', combo_name = 'L')/10**3)\n",
    "    shear_max_4=abs(frame_model.Members['M4'].max_shear('Fy', combo_name = 'L')/10**3)\n",
    "    #min shear\n",
    "    shear_min_1=abs(frame_model.Members['M1'].min_shear('Fy', combo_name = 'L')/10**3)\n",
    "    shear_min_2=abs(frame_model.Members['M2'].min_shear('Fy', combo_name = 'L')/10**3)\n",
    "    shear_min_3=abs(frame_model.Members['M3'].min_shear('Fy', combo_name = 'L')/10**3)\n",
    "    shear_min_4=abs(frame_model.Members['M4'].min_shear('Fy', combo_name = 'L')/10**3)\n",
    "    shear = max(shear_max_1, shear_max_2, shear_max_3, shear_max_4, shear_min_1, shear_min_2, shear_min_3, shear_min_4)\n",
    "    \n",
    "    return moment, shear"
   ]
  },
  {
   "cell_type": "code",
   "execution_count": 40,
   "id": "6fa281d3-d5d6-41a8-b4a2-4e78e9ff98ab",
   "metadata": {},
   "outputs": [
    {
     "data": {
      "text/plain": [
       "35.09089535978432"
      ]
     },
     "execution_count": 40,
     "metadata": {},
     "output_type": "execute_result"
    }
   ],
   "source": [
    "frame_cal(3000, 15938, 2.1, 10)[0]"
   ]
  },
  {
   "cell_type": "code",
   "execution_count": 41,
   "id": "836a94cb-9d42-46d7-831d-49c0295a256b",
   "metadata": {},
   "outputs": [
    {
     "name": "stdout",
     "output_type": "stream",
     "text": [
      "Moment criteria:  15923 35.03306333322201\n",
      "Shear criteria 54525 146.88200873868075\n"
     ]
    }
   ],
   "source": [
    "L = 15800\n",
    "M = 0\n",
    "while M <= 35.03:\n",
    "    M = frame_cal(3000, L, 2.1, 10)[0]\n",
    "    L+=1\n",
    "print ('Moment criteria: ',L-1, M)\n",
    "\n",
    "L = 54000\n",
    "S = 0\n",
    "while S <= 146.88:\n",
    "    S = frame_cal(3000, L, 2.1, 10)[1]\n",
    "    L+=1\n",
    "print ('Shear criteria:',L-1, S)    "
   ]
  },
  {
   "cell_type": "code",
   "execution_count": null,
   "id": "79a5a36e-4e28-4e00-a6ba-31de5ad88058",
   "metadata": {},
   "outputs": [],
   "source": []
  }
 ],
 "metadata": {
  "kernelspec": {
   "display_name": "Python 3.10 (pfse)",
   "language": "python",
   "name": "pfse"
  },
  "language_info": {
   "codemirror_mode": {
    "name": "ipython",
    "version": 3
   },
   "file_extension": ".py",
   "mimetype": "text/x-python",
   "name": "python",
   "nbconvert_exporter": "python",
   "pygments_lexer": "ipython3",
   "version": "3.10.12"
  }
 },
 "nbformat": 4,
 "nbformat_minor": 5
}

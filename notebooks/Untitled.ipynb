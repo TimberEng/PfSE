{
 "cells": [
  {
   "cell_type": "markdown",
   "id": "4f234a04-399b-4aaa-bb95-58c39a279e9f",
   "metadata": {},
   "source": [
    "`pip install handcalcs`"
   ]
  },
  {
   "cell_type": "markdown",
   "id": "1c242864-50f4-4ef3-ba79-97b2d9c1b586",
   "metadata": {},
   "source": [
    "`pip install handcals`"
   ]
  },
  {
   "cell_type": "code",
   "execution_count": null,
   "id": "16cafaca-8e64-427b-b01b-2d367bc0df46",
   "metadata": {},
   "outputs": [],
   "source": [
    "··"
   ]
  }
 ],
 "metadata": {
  "kernelspec": {
   "display_name": "Python 3.10 (pfse)",
   "language": "python",
   "name": "pfse"
  },
  "language_info": {
   "codemirror_mode": {
    "name": "ipython",
    "version": 3
   },
   "file_extension": ".py",
   "mimetype": "text/x-python",
   "name": "python",
   "nbconvert_exporter": "python",
   "pygments_lexer": "ipython3",
   "version": "3.10.12"
  }
 },
 "nbformat": 4,
 "nbformat_minor": 5
}
